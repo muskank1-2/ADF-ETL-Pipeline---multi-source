{
 "cells": [
  {
   "cell_type": "code",
   "execution_count": 0,
   "metadata": {
    "application/vnd.databricks.v1+cell": {
     "cellMetadata": {
      "byteLimit": 2048000,
      "rowLimit": 10000
     },
     "inputWidgets": {},
     "nuid": "ba6d106b-dcdd-46c3-b0cb-5e8eca3a206c",
     "showTitle": false,
     "tableResultSettingsMap": {},
     "title": ""
    }
   },
   "outputs": [
    {
     "data": {
      "text/plain": [
       "\u001b[0;31m---------------------------------------------------------------------------\u001b[0m\n",
       "\u001b[0;31mExecutionError\u001b[0m                            Traceback (most recent call last)\n",
       "File \u001b[0;32m<command-1628159609128113>:1\u001b[0m\n",
       "\u001b[0;32m----> 1\u001b[0m \u001b[43mdbutils\u001b[49m\u001b[38;5;241;43m.\u001b[39;49m\u001b[43mfs\u001b[49m\u001b[38;5;241;43m.\u001b[39;49m\u001b[43mmount\u001b[49m\u001b[43m \u001b[49m\u001b[43m(\u001b[49m\n",
       "\u001b[1;32m      2\u001b[0m \u001b[43m    \u001b[49m\u001b[43msource\u001b[49m\u001b[43m \u001b[49m\u001b[38;5;241;43m=\u001b[39;49m\u001b[43m \u001b[49m\u001b[38;5;124;43m\"\u001b[39;49m\u001b[38;5;124;43mwasbs://retail@poc13storageretail13.blob.core.windows.net\u001b[39;49m\u001b[38;5;124;43m\"\u001b[39;49m\u001b[43m,\u001b[49m\n",
       "\u001b[1;32m      3\u001b[0m \u001b[43m    \u001b[49m\u001b[43mmount_point\u001b[49m\u001b[43m \u001b[49m\u001b[38;5;241;43m=\u001b[39;49m\u001b[43m \u001b[49m\u001b[38;5;124;43m'\u001b[39;49m\u001b[38;5;124;43m/mnt/retailprojectadf\u001b[39;49m\u001b[38;5;124;43m'\u001b[39;49m\u001b[43m,\u001b[49m\n",
       "\u001b[1;32m      4\u001b[0m \u001b[43m    \u001b[49m\u001b[43mextra_configs\u001b[49m\u001b[43m \u001b[49m\u001b[38;5;241;43m=\u001b[39;49m\u001b[43m \u001b[49m\u001b[43m{\u001b[49m\u001b[38;5;124;43m\"\u001b[39;49m\u001b[38;5;124;43mfs.azure.account.key.poc13storageretail13.blob.core.windows.net\u001b[39;49m\u001b[38;5;124;43m\"\u001b[39;49m\u001b[43m:\u001b[49m\u001b[38;5;124;43m\"\u001b[39;49m\u001b[38;5;124;43mdxWIwKF3g4zUGL+v7NShlWgHfdVObfS0JyP2aMAOq/lkwt6ClZrGIbmJPeBsHgpf1WjB7xSdAa6L+AStu6FfBQ==\u001b[39;49m\u001b[38;5;124;43m\"\u001b[39;49m\u001b[43m}\u001b[49m\n",
       "\u001b[1;32m      5\u001b[0m \u001b[43m)\u001b[49m\n",
       "\n",
       "File \u001b[0;32m/databricks/python_shell/dbruntime/dbutils.py:364\u001b[0m, in \u001b[0;36mDBUtils.FSHandler.prettify_exception_message.<locals>.f_with_exception_handling\u001b[0;34m(*args, **kwargs)\u001b[0m\n",
       "\u001b[1;32m    362\u001b[0m exc\u001b[38;5;241m.\u001b[39m__context__ \u001b[38;5;241m=\u001b[39m \u001b[38;5;28;01mNone\u001b[39;00m\n",
       "\u001b[1;32m    363\u001b[0m exc\u001b[38;5;241m.\u001b[39m__cause__ \u001b[38;5;241m=\u001b[39m \u001b[38;5;28;01mNone\u001b[39;00m\n",
       "\u001b[0;32m--> 364\u001b[0m \u001b[38;5;28;01mraise\u001b[39;00m exc\n",
       "\n",
       "\u001b[0;31mExecutionError\u001b[0m: An error occurred while calling o418.mount.\n",
       ": java.rmi.RemoteException: java.lang.IllegalArgumentException: requirement failed: Directory already mounted: /mnt/retailprojectadf; nested exception is: \n",
       "\tjava.lang.IllegalArgumentException: requirement failed: Directory already mounted: /mnt/retailprojectadf\n",
       "\tat com.databricks.backend.daemon.data.client.DbfsClient.send0(DbfsClient.scala:135)\n",
       "\tat com.databricks.backend.daemon.data.client.DbfsClient.sendIdempotent(DbfsClient.scala:69)\n",
       "\tat com.databricks.backend.daemon.dbutils.DBUtilsCore.createOrUpdateMount(DBUtilsCore.scala:1053)\n",
       "\tat com.databricks.backend.daemon.dbutils.DBUtilsCore.$anonfun$mount$1(DBUtilsCore.scala:1079)\n",
       "\tat com.databricks.logging.UsageLogging.$anonfun$recordOperation$1(UsageLogging.scala:560)\n",
       "\tat com.databricks.logging.UsageLogging.executeThunkAndCaptureResultTags$1(UsageLogging.scala:657)\n",
       "\tat com.databricks.logging.UsageLogging.$anonfun$recordOperationWithResultTags$4(UsageLogging.scala:678)\n",
       "\tat com.databricks.logging.UsageLogging.$anonfun$withAttributionContext$1(UsageLogging.scala:414)\n",
       "\tat scala.util.DynamicVariable.withValue(DynamicVariable.scala:62)\n",
       "\tat com.databricks.logging.AttributionContext$.withValue(AttributionContext.scala:158)\n",
       "\tat com.databricks.logging.UsageLogging.withAttributionContext(UsageLogging.scala:412)\n",
       "\tat com.databricks.logging.UsageLogging.withAttributionContext$(UsageLogging.scala:409)\n",
       "\tat com.databricks.backend.daemon.dbutils.FSUtils.withAttributionContext(DBUtilsCore.scala:71)\n",
       "\tat com.databricks.logging.UsageLogging.withAttributionTags(UsageLogging.scala:457)\n",
       "\tat com.databricks.logging.UsageLogging.withAttributionTags$(UsageLogging.scala:442)\n",
       "\tat com.databricks.backend.daemon.dbutils.FSUtils.withAttributionTags(DBUtilsCore.scala:71)\n",
       "\tat com.databricks.logging.UsageLogging.recordOperationWithResultTags(UsageLogging.scala:652)\n",
       "\tat com.databricks.logging.UsageLogging.recordOperationWithResultTags$(UsageLogging.scala:569)\n",
       "\tat com.databricks.backend.daemon.dbutils.FSUtils.recordOperationWithResultTags(DBUtilsCore.scala:71)\n",
       "\tat com.databricks.logging.UsageLogging.recordOperation(UsageLogging.scala:560)\n",
       "\tat com.databricks.logging.UsageLogging.recordOperation$(UsageLogging.scala:528)\n",
       "\tat com.databricks.backend.daemon.dbutils.FSUtils.recordOperation(DBUtilsCore.scala:71)\n",
       "\tat com.databricks.backend.daemon.dbutils.FSUtils.recordDbutilsFsOp(DBUtilsCore.scala:135)\n",
       "\tat com.databricks.backend.daemon.dbutils.DBUtilsCore.mount(DBUtilsCore.scala:1073)\n",
       "\tat sun.reflect.NativeMethodAccessorImpl.invoke0(Native Method)\n",
       "\tat sun.reflect.NativeMethodAccessorImpl.invoke(NativeMethodAccessorImpl.java:62)\n",
       "\tat sun.reflect.DelegatingMethodAccessorImpl.invoke(DelegatingMethodAccessorImpl.java:43)\n",
       "\tat java.lang.reflect.Method.invoke(Method.java:498)\n",
       "\tat py4j.reflection.MethodInvoker.invoke(MethodInvoker.java:244)\n",
       "\tat py4j.reflection.ReflectionEngine.invoke(ReflectionEngine.java:380)\n",
       "\tat py4j.Gateway.invoke(Gateway.java:306)\n",
       "\tat py4j.commands.AbstractCommand.invokeMethod(AbstractCommand.java:132)\n",
       "\tat py4j.commands.CallCommand.execute(CallCommand.java:79)\n",
       "\tat py4j.ClientServerConnection.waitForCommands(ClientServerConnection.java:195)\n",
       "\tat py4j.ClientServerConnection.run(ClientServerConnection.java:115)\n",
       "\tat java.lang.Thread.run(Thread.java:750)\n",
       "Caused by: java.lang.IllegalArgumentException: requirement failed: Directory already mounted: /mnt/retailprojectadf\n",
       "\tat scala.Predef$.require(Predef.scala:281)\n",
       "\tat com.databricks.backend.daemon.data.server.DefaultMetadataManager.$anonfun$insertMount$1(MetadataManager.scala:880)\n",
       "\tat com.databricks.backend.daemon.data.server.DefaultMetadataManager.$anonfun$modifyAndVerify$2(MetadataManager.scala:1262)\n",
       "\tat scala.runtime.java8.JFunction0$mcV$sp.apply(JFunction0$mcV$sp.java:23)\n",
       "\tat com.databricks.backend.daemon.data.server.DefaultMetadataManager.withRetries(MetadataManager.scala:1035)\n",
       "\tat com.databricks.backend.daemon.data.server.DefaultMetadataManager.modifyAndVerify(MetadataManager.scala:1251)\n",
       "\tat com.databricks.backend.daemon.data.server.DefaultMetadataManager.insertMount(MetadataManager.scala:888)\n",
       "\tat com.databricks.backend.daemon.data.server.handler.MountHandler.receive(MountHandler.scala:136)\n",
       "\tat com.databricks.backend.daemon.data.server.handler.CEMountHandler.receive(MountHandler.scala:180)\n",
       "\tat com.databricks.backend.daemon.data.server.handler.DbfsRequestHandler.receive(DbfsRequestHandler.scala:16)\n",
       "\tat com.databricks.backend.daemon.data.server.handler.DbfsRequestHandler.receive$(DbfsRequestHandler.scala:15)\n",
       "\tat com.databricks.backend.daemon.data.server.handler.MountHandler.receive(MountHandler.scala:40)\n",
       "\tat com.databricks.backend.daemon.data.server.session.SessionContext.$anonfun$queryHandlers$1(SessionContext.scala:51)\n",
       "\tat com.databricks.backend.daemon.data.server.session.SessionContext.$anonfun$queryHandlers$1$adapted(SessionContext.scala:50)\n",
       "\tat scala.collection.immutable.List.foreach(List.scala:431)\n",
       "\tat com.databricks.backend.daemon.data.server.session.SessionContext.queryHandlers(SessionContext.scala:50)\n",
       "\tat com.databricks.backend.daemon.data.server.DbfsServerBackend.$anonfun$handleOtherRpc$3(DbfsServerBackend.scala:995)\n",
       "\tat com.databricks.logging.AttributionContextTracing.$anonfun$withAttributionContext$1(AttributionContextTracing.scala:80)\n",
       "\tat com.databricks.logging.AttributionContext$.$anonfun$withValue$1(AttributionContext.scala:336)\n",
       "\tat scala.util.DynamicVariable.withValue(DynamicVariable.scala:62)\n",
       "\tat com.databricks.logging.AttributionContext$.withValue(AttributionContext.scala:332)\n",
       "\tat com.databricks.logging.AttributionContextTracing.withAttributionContext(AttributionContextTracing.scala:78)\n",
       "\tat com.databricks.logging.AttributionContextTracing.withAttributionContext$(AttributionContextTracing.scala:75)\n",
       "\tat com.databricks.rpc.ServerBackend.withAttributionContext(ServerBackend.scala:22)\n",
       "\tat com.databricks.logging.AttributionContextTracing.withAttributionTags(AttributionContextTracing.scala:127)\n",
       "\tat com.databricks.logging.AttributionContextTracing.withAttributionTags$(AttributionContextTracing.scala:108)\n",
       "\tat com.databricks.rpc.ServerBackend.withAttributionTags(ServerBackend.scala:22)\n",
       "\tat com.databricks.backend.daemon.data.server.DbfsServerBackend.handleOtherRpc(DbfsServerBackend.scala:995)\n",
       "\tat com.databricks.backend.daemon.data.server.DbfsServerBackend.$anonfun$new$21(DbfsServerBackend.scala:339)\n",
       "\tat com.databricks.backend.daemon.data.server.DbfsServerBackend.$anonfun$new$21$adapted(DbfsServerBackend.scala:338)\n",
       "\tat com.databricks.rpc.armeria.LegacyJettyCompatibilityWrapperBlocking.jettyHandler(CompatServerBackend.scala:489)\n",
       "\tat com.databricks.rpc.armeria.RPCContextCapturingPartialFunctionForLegacyRpc.apply(CompatServerBackend.scala:548)\n",
       "\tat com.databricks.rpc.armeria.RPCContextCapturingPartialFunctionForLegacyRpc.apply(CompatServerBackend.scala:541)\n",
       "\tat scala.PartialFunction.applyOrElse(PartialFunction.scala:127)\n",
       "\tat scala.PartialFunction.applyOrElse$(PartialFunction.scala:126)\n",
       "\tat com.databricks.rpc.armeria.RPCContextCapturingPartialFunctionForLegacyRpc.applyOrElse(CompatServerBackend.scala:541)\n",
       "\tat scala.PartialFunction$OrElse.applyOrElse(PartialFunction.scala:176)\n",
       "\tat com.databricks.rpc.ServerBackend.$anonfun$internalReceive0$2(ServerBackend.scala:174)\n",
       "\tat com.databricks.rpc.ServerBackend$$anonfun$commonReceive$1.applyOrElse(ServerBackend.scala:200)\n",
       "\tat com.databricks.rpc.ServerBackend$$anonfun$commonReceive$1.applyOrElse(ServerBackend.scala:200)\n",
       "\tat com.databricks.rpc.ServerBackend.internalReceive0(ServerBackend.scala:171)\n",
       "\tat com.databricks.rpc.ServerBackend.$anonfun$internalReceive$1(ServerBackend.scala:147)\n",
       "\tat com.databricks.logging.UsageLogging.$anonfun$recordOperation$1(UsageLogging.scala:510)\n",
       "\tat com.databricks.logging.UsageLogging.executeThunkAndCaptureResultTags$1(UsageLogging.scala:616)\n",
       "\tat com.databricks.logging.UsageLogging.$anonfun$recordOperationWithResultTags$4(UsageLogging.scala:643)\n",
       "\tat com.databricks.logging.AttributionContextTracing.$anonfun$withAttributionContext$1(AttributionContextTracing.scala:80)\n",
       "\tat com.databricks.logging.AttributionContext$.$anonfun$withValue$1(AttributionContext.scala:336)\n",
       "\tat scala.util.DynamicVariable.withValue(DynamicVariable.scala:62)\n",
       "\tat com.databricks.logging.AttributionContext$.withValue(AttributionContext.scala:332)\n",
       "\tat com.databricks.logging.AttributionContextTracing.withAttributionContext(AttributionContextTracing.scala:78)\n",
       "\tat com.databricks.logging.AttributionContextTracing.withAttributionContext$(AttributionContextTracing.scala:75)\n",
       "\tat com.databricks.rpc.ServerBackend.withAttributionContext(ServerBackend.scala:22)\n",
       "\tat com.databricks.logging.AttributionContextTracing.withAttributionTags(AttributionContextTracing.scala:127)\n",
       "\tat com.databricks.logging.AttributionContextTracing.withAttributionTags$(AttributionContextTracing.scala:108)\n",
       "\tat com.databricks.rpc.ServerBackend.withAttributionTags(ServerBackend.scala:22)\n",
       "\tat com.databricks.logging.UsageLogging.recordOperationWithResultTags(UsageLogging.scala:611)\n",
       "\tat com.databricks.logging.UsageLogging.recordOperationWithResultTags$(UsageLogging.scala:519)\n",
       "\tat com.databricks.rpc.ServerBackend.recordOperationWithResultTags(ServerBackend.scala:22)\n",
       "\tat com.databricks.logging.UsageLogging.recordOperation(UsageLogging.scala:511)\n",
       "\tat com.databricks.logging.UsageLogging.recordOperation$(UsageLogging.scala:475)\n",
       "\tat com.databricks.rpc.ServerBackend.recordOperation(ServerBackend.scala:22)\n",
       "\tat com.databricks.rpc.ServerBackend.internalReceive(ServerBackend.scala:146)\n",
       "\tat com.databricks.rpc.JettyServer$RequestManager.handleRPC(JettyServer.scala:997)\n",
       "\tat com.databricks.rpc.JettyServer$RequestManager.handleRequestAndRespond(JettyServer.scala:917)\n",
       "\tat com.databricks.rpc.JettyServer$RequestManager.$anonfun$handleHttp$5(JettyServer.scala:557)\n",
       "\tat com.databricks.rpc.JettyServer$RequestManager.$anonfun$handleHttp$5$adapted(JettyServer.scala:522)\n",
       "\tat com.databricks.logging.activity.ActivityContextFactory$.$anonfun$withActivityInternal$12(ActivityContextFactory.scala:966)\n",
       "\tat com.databricks.logging.AttributionContextTracing.$anonfun$withAttributionContext$1(AttributionContextTracing.scala:80)\n",
       "\tat com.databricks.logging.AttributionContext$.$anonfun$withValue$1(AttributionContext.scala:336)\n",
       "\tat scala.util.DynamicVariable.withValue(DynamicVariable.scala:62)\n",
       "\tat com.databricks.logging.AttributionContext$.withValue(AttributionContext.scala:332)\n",
       "\tat com.databricks.logging.AttributionContextTracing.withAttributionContext(AttributionContextTracing.scala:78)\n",
       "\tat com.databricks.logging.AttributionContextTracing.withAttributionContext$(AttributionContextTracing.scala:75)\n",
       "\tat com.databricks.logging.activity.ActivityContextFactory$.withAttributionContext(ActivityContextFactory.scala:60)\n",
       "\tat com.databricks.logging.activity.ActivityContextFactory$.$anonfun$withActivityInternal$2(ActivityContextFactory.scala:966)\n",
       "\tat com.databricks.context.integrity.IntegrityCheckContext$ThreadLocalStorage$.withValue(IntegrityCheckContext.scala:73)\n",
       "\tat com.databricks.logging.activity.ActivityContextFactory$.withActivityInternal(ActivityContextFactory.scala:928)\n",
       "\tat com.databricks.logging.activity.ActivityContextFactory$.withActivityInternal(ActivityContextFactory.scala:909)\n",
       "\tat com.databricks.logging.activity.ActivityContextFactory$.$anonfun$withServiceRequestActivity$26(ActivityContextFactory.scala:338)\n",
       "\tat com.databricks.logging.AttributionContextTracing.$anonfun$withAttributionContext$1(AttributionContextTracing.scala:80)\n",
       "\tat com.databricks.logging.AttributionContext$.$anonfun$withValue$1(AttributionContext.scala:336)\n",
       "\tat scala.util.DynamicVariable.withValue(DynamicVariable.scala:62)\n",
       "\tat com.databricks.logging.AttributionContext$.withValue(AttributionContext.scala:332)\n",
       "\tat com.databricks.logging.AttributionContextTracing.withAttributionContext(AttributionContextTracing.scala:78)\n",
       "\tat com.databricks.logging.AttributionContextTracing.withAttributionContext$(AttributionContextTracing.scala:75)\n",
       "\tat com.databricks.logging.activity.ActivityContextFactory$.withAttributionContext(ActivityContextFactory.scala:60)\n",
       "\tat com.databricks.logging.activity.ActivityContextFactory$.withServiceRequestActivity(ActivityContextFactory.scala:338)\n",
       "\tat com.databricks.rpc.JettyServer$RequestManager.handleHttp(JettyServer.scala:522)\n",
       "\tat com.databricks.rpc.JettyServer$RequestManager.doPost(JettyServer.scala:417)\n",
       "\tat javax.servlet.http.HttpServlet.service(HttpServlet.java:665)\n",
       "\tat com.databricks.rpc.HttpServletWithPatch.service(HttpServletWithPatch.scala:33)\n",
       "\tat javax.servlet.http.HttpServlet.service(HttpServlet.java:750)\n",
       "\tat org.eclipse.jetty.servlet.ServletHolder.handle(ServletHolder.java:799)\n",
       "\tat org.eclipse.jetty.servlet.ServletHandler.doHandle(ServletHandler.java:554)\n",
       "\tat org.eclipse.jetty.server.handler.ScopedHandler.nextScope(ScopedHandler.java:190)\n",
       "\tat org.eclipse.jetty.servlet.ServletHandler.doScope(ServletHandler.java:505)\n",
       "\tat org.eclipse.jetty.server.handler.ScopedHandler.handle(ScopedHandler.java:141)\n",
       "\tat org.eclipse.jetty.server.handler.HandlerWrapper.handle(HandlerWrapper.java:127)\n",
       "\tat org.eclipse.jetty.server.Server.handle(Server.java:516)\n",
       "\tat org.eclipse.jetty.server.HttpChannel.lambda$handle$1(HttpChannel.java:487)\n",
       "\tat org.eclipse.jetty.server.HttpChannel.dispatch(HttpChannel.java:732)\n",
       "\tat org.eclipse.jetty.server.HttpChannel.handle(HttpChannel.java:479)\n",
       "\tat org.eclipse.jetty.server.HttpConnection.onFillable(HttpConnection.java:277)\n",
       "\tat org.eclipse.jetty.io.AbstractConnection$ReadCallback.succeeded(AbstractConnection.java:311)\n",
       "\tat org.eclipse.jetty.io.FillInterest.fillable(FillInterest.java:105)\n",
       "\tat org.eclipse.jetty.io.ChannelEndPoint$1.run(ChannelEndPoint.java:104)\n",
       "\tat org.eclipse.jetty.util.thread.strategy.EatWhatYouKill.runTask(EatWhatYouKill.java:338)\n",
       "\tat org.eclipse.jetty.util.thread.strategy.EatWhatYouKill.doProduce(EatWhatYouKill.java:315)\n",
       "\tat org.eclipse.jetty.util.thread.strategy.EatWhatYouKill.tryProduce(EatWhatYouKill.java:173)\n",
       "\tat org.eclipse.jetty.util.thread.strategy.EatWhatYouKill.run(EatWhatYouKill.java:131)\n",
       "\tat org.eclipse.jetty.util.thread.ReservedThreadExecutor$ReservedThread.run(ReservedThreadExecutor.java:409)\n",
       "\tat com.databricks.rpc.InstrumentedQueuedThreadPool$$anon$1.$anonfun$run$2(InstrumentedQueuedThreadPool.scala:111)\n",
       "\tat scala.runtime.java8.JFunction0$mcV$sp.apply(JFunction0$mcV$sp.java:23)\n",
       "\tat com.databricks.logging.AttributionContextTracing.$anonfun$withAttributionContext$1(AttributionContextTracing.scala:80)\n",
       "\tat com.databricks.logging.AttributionContext$.$anonfun$withValue$1(AttributionContext.scala:336)\n",
       "\tat scala.util.DynamicVariable.withValue(DynamicVariable.scala:62)\n",
       "\tat com.databricks.logging.AttributionContext$.withValue(AttributionContext.scala:332)\n",
       "\tat com.databricks.logging.AttributionContextTracing.withAttributionContext(AttributionContextTracing.scala:78)\n",
       "\tat com.databricks.logging.AttributionContextTracing.withAttributionContext$(AttributionContextTracing.scala:75)\n",
       "\tat com.databricks.rpc.InstrumentedQueuedThreadPool.withAttributionContext(InstrumentedQueuedThreadPool.scala:46)\n",
       "\tat com.databricks.rpc.InstrumentedQueuedThreadPool$$anon$1.$anonfun$run$1(InstrumentedQueuedThreadPool.scala:111)\n",
       "\tat scala.runtime.java8.JFunction0$mcV$sp.apply(JFunction0$mcV$sp.java:23)\n",
       "\tat com.databricks.instrumentation.QueuedThreadPoolInstrumenter.trackActiveThreads(QueuedThreadPoolInstrumenter.scala:132)\n",
       "\tat com.databricks.instrumentation.QueuedThreadPoolInstrumenter.trackActiveThreads$(QueuedThreadPoolInstrumenter.scala:129)\n",
       "\tat com.databricks.rpc.InstrumentedQueuedThreadPool.trackActiveThreads(InstrumentedQueuedThreadPool.scala:46)\n",
       "\tat com.databricks.rpc.InstrumentedQueuedThreadPool$$anon$1.run(InstrumentedQueuedThreadPool.scala:93)\n",
       "\tat org.eclipse.jetty.util.thread.QueuedThreadPool.runJob(QueuedThreadPool.java:883)\n",
       "\tat org.eclipse.jetty.util.thread.QueuedThreadPool$Runner.run(QueuedThreadPool.java:1034)\n",
       "\tat java.lang.Thread.run(Thread.java:840)\n"
      ]
     },
     "metadata": {
      "application/vnd.databricks.v1+output": {
       "arguments": {},
       "data": "\u001b[0;31m---------------------------------------------------------------------------\u001b[0m\n\u001b[0;31mExecutionError\u001b[0m                            Traceback (most recent call last)\nFile \u001b[0;32m<command-1628159609128113>:1\u001b[0m\n\u001b[0;32m----> 1\u001b[0m \u001b[43mdbutils\u001b[49m\u001b[38;5;241;43m.\u001b[39;49m\u001b[43mfs\u001b[49m\u001b[38;5;241;43m.\u001b[39;49m\u001b[43mmount\u001b[49m\u001b[43m \u001b[49m\u001b[43m(\u001b[49m\n\u001b[1;32m      2\u001b[0m \u001b[43m    \u001b[49m\u001b[43msource\u001b[49m\u001b[43m \u001b[49m\u001b[38;5;241;43m=\u001b[39;49m\u001b[43m \u001b[49m\u001b[38;5;124;43m\"\u001b[39;49m\u001b[38;5;124;43mwasbs://retail@poc13storageretail13.blob.core.windows.net\u001b[39;49m\u001b[38;5;124;43m\"\u001b[39;49m\u001b[43m,\u001b[49m\n\u001b[1;32m      3\u001b[0m \u001b[43m    \u001b[49m\u001b[43mmount_point\u001b[49m\u001b[43m \u001b[49m\u001b[38;5;241;43m=\u001b[39;49m\u001b[43m \u001b[49m\u001b[38;5;124;43m'\u001b[39;49m\u001b[38;5;124;43m/mnt/retailprojectadf\u001b[39;49m\u001b[38;5;124;43m'\u001b[39;49m\u001b[43m,\u001b[49m\n\u001b[1;32m      4\u001b[0m \u001b[43m    \u001b[49m\u001b[43mextra_configs\u001b[49m\u001b[43m \u001b[49m\u001b[38;5;241;43m=\u001b[39;49m\u001b[43m \u001b[49m\u001b[43m{\u001b[49m\u001b[38;5;124;43m\"\u001b[39;49m\u001b[38;5;124;43mfs.azure.account.key.poc13storageretail13.blob.core.windows.net\u001b[39;49m\u001b[38;5;124;43m\"\u001b[39;49m\u001b[43m:\u001b[49m\u001b[38;5;124;43m\"\u001b[39;49m\u001b[38;5;124;43mdxWIwKF3g4zUGL+v7NShlWgHfdVObfS0JyP2aMAOq/lkwt6ClZrGIbmJPeBsHgpf1WjB7xSdAa6L+AStu6FfBQ==\u001b[39;49m\u001b[38;5;124;43m\"\u001b[39;49m\u001b[43m}\u001b[49m\n\u001b[1;32m      5\u001b[0m \u001b[43m)\u001b[49m\n\nFile \u001b[0;32m/databricks/python_shell/dbruntime/dbutils.py:364\u001b[0m, in \u001b[0;36mDBUtils.FSHandler.prettify_exception_message.<locals>.f_with_exception_handling\u001b[0;34m(*args, **kwargs)\u001b[0m\n\u001b[1;32m    362\u001b[0m exc\u001b[38;5;241m.\u001b[39m__context__ \u001b[38;5;241m=\u001b[39m \u001b[38;5;28;01mNone\u001b[39;00m\n\u001b[1;32m    363\u001b[0m exc\u001b[38;5;241m.\u001b[39m__cause__ \u001b[38;5;241m=\u001b[39m \u001b[38;5;28;01mNone\u001b[39;00m\n\u001b[0;32m--> 364\u001b[0m \u001b[38;5;28;01mraise\u001b[39;00m exc\n\n\u001b[0;31mExecutionError\u001b[0m: An error occurred while calling o418.mount.\n: java.rmi.RemoteException: java.lang.IllegalArgumentException: requirement failed: Directory already mounted: /mnt/retailprojectadf; nested exception is: \n\tjava.lang.IllegalArgumentException: requirement failed: Directory already mounted: /mnt/retailprojectadf\n\tat com.databricks.backend.daemon.data.client.DbfsClient.send0(DbfsClient.scala:135)\n\tat com.databricks.backend.daemon.data.client.DbfsClient.sendIdempotent(DbfsClient.scala:69)\n\tat com.databricks.backend.daemon.dbutils.DBUtilsCore.createOrUpdateMount(DBUtilsCore.scala:1053)\n\tat com.databricks.backend.daemon.dbutils.DBUtilsCore.$anonfun$mount$1(DBUtilsCore.scala:1079)\n\tat com.databricks.logging.UsageLogging.$anonfun$recordOperation$1(UsageLogging.scala:560)\n\tat com.databricks.logging.UsageLogging.executeThunkAndCaptureResultTags$1(UsageLogging.scala:657)\n\tat com.databricks.logging.UsageLogging.$anonfun$recordOperationWithResultTags$4(UsageLogging.scala:678)\n\tat com.databricks.logging.UsageLogging.$anonfun$withAttributionContext$1(UsageLogging.scala:414)\n\tat scala.util.DynamicVariable.withValue(DynamicVariable.scala:62)\n\tat com.databricks.logging.AttributionContext$.withValue(AttributionContext.scala:158)\n\tat com.databricks.logging.UsageLogging.withAttributionContext(UsageLogging.scala:412)\n\tat com.databricks.logging.UsageLogging.withAttributionContext$(UsageLogging.scala:409)\n\tat com.databricks.backend.daemon.dbutils.FSUtils.withAttributionContext(DBUtilsCore.scala:71)\n\tat com.databricks.logging.UsageLogging.withAttributionTags(UsageLogging.scala:457)\n\tat com.databricks.logging.UsageLogging.withAttributionTags$(UsageLogging.scala:442)\n\tat com.databricks.backend.daemon.dbutils.FSUtils.withAttributionTags(DBUtilsCore.scala:71)\n\tat com.databricks.logging.UsageLogging.recordOperationWithResultTags(UsageLogging.scala:652)\n\tat com.databricks.logging.UsageLogging.recordOperationWithResultTags$(UsageLogging.scala:569)\n\tat com.databricks.backend.daemon.dbutils.FSUtils.recordOperationWithResultTags(DBUtilsCore.scala:71)\n\tat com.databricks.logging.UsageLogging.recordOperation(UsageLogging.scala:560)\n\tat com.databricks.logging.UsageLogging.recordOperation$(UsageLogging.scala:528)\n\tat com.databricks.backend.daemon.dbutils.FSUtils.recordOperation(DBUtilsCore.scala:71)\n\tat com.databricks.backend.daemon.dbutils.FSUtils.recordDbutilsFsOp(DBUtilsCore.scala:135)\n\tat com.databricks.backend.daemon.dbutils.DBUtilsCore.mount(DBUtilsCore.scala:1073)\n\tat sun.reflect.NativeMethodAccessorImpl.invoke0(Native Method)\n\tat sun.reflect.NativeMethodAccessorImpl.invoke(NativeMethodAccessorImpl.java:62)\n\tat sun.reflect.DelegatingMethodAccessorImpl.invoke(DelegatingMethodAccessorImpl.java:43)\n\tat java.lang.reflect.Method.invoke(Method.java:498)\n\tat py4j.reflection.MethodInvoker.invoke(MethodInvoker.java:244)\n\tat py4j.reflection.ReflectionEngine.invoke(ReflectionEngine.java:380)\n\tat py4j.Gateway.invoke(Gateway.java:306)\n\tat py4j.commands.AbstractCommand.invokeMethod(AbstractCommand.java:132)\n\tat py4j.commands.CallCommand.execute(CallCommand.java:79)\n\tat py4j.ClientServerConnection.waitForCommands(ClientServerConnection.java:195)\n\tat py4j.ClientServerConnection.run(ClientServerConnection.java:115)\n\tat java.lang.Thread.run(Thread.java:750)\nCaused by: java.lang.IllegalArgumentException: requirement failed: Directory already mounted: /mnt/retailprojectadf\n\tat scala.Predef$.require(Predef.scala:281)\n\tat com.databricks.backend.daemon.data.server.DefaultMetadataManager.$anonfun$insertMount$1(MetadataManager.scala:880)\n\tat com.databricks.backend.daemon.data.server.DefaultMetadataManager.$anonfun$modifyAndVerify$2(MetadataManager.scala:1262)\n\tat scala.runtime.java8.JFunction0$mcV$sp.apply(JFunction0$mcV$sp.java:23)\n\tat com.databricks.backend.daemon.data.server.DefaultMetadataManager.withRetries(MetadataManager.scala:1035)\n\tat com.databricks.backend.daemon.data.server.DefaultMetadataManager.modifyAndVerify(MetadataManager.scala:1251)\n\tat com.databricks.backend.daemon.data.server.DefaultMetadataManager.insertMount(MetadataManager.scala:888)\n\tat com.databricks.backend.daemon.data.server.handler.MountHandler.receive(MountHandler.scala:136)\n\tat com.databricks.backend.daemon.data.server.handler.CEMountHandler.receive(MountHandler.scala:180)\n\tat com.databricks.backend.daemon.data.server.handler.DbfsRequestHandler.receive(DbfsRequestHandler.scala:16)\n\tat com.databricks.backend.daemon.data.server.handler.DbfsRequestHandler.receive$(DbfsRequestHandler.scala:15)\n\tat com.databricks.backend.daemon.data.server.handler.MountHandler.receive(MountHandler.scala:40)\n\tat com.databricks.backend.daemon.data.server.session.SessionContext.$anonfun$queryHandlers$1(SessionContext.scala:51)\n\tat com.databricks.backend.daemon.data.server.session.SessionContext.$anonfun$queryHandlers$1$adapted(SessionContext.scala:50)\n\tat scala.collection.immutable.List.foreach(List.scala:431)\n\tat com.databricks.backend.daemon.data.server.session.SessionContext.queryHandlers(SessionContext.scala:50)\n\tat com.databricks.backend.daemon.data.server.DbfsServerBackend.$anonfun$handleOtherRpc$3(DbfsServerBackend.scala:995)\n\tat com.databricks.logging.AttributionContextTracing.$anonfun$withAttributionContext$1(AttributionContextTracing.scala:80)\n\tat com.databricks.logging.AttributionContext$.$anonfun$withValue$1(AttributionContext.scala:336)\n\tat scala.util.DynamicVariable.withValue(DynamicVariable.scala:62)\n\tat com.databricks.logging.AttributionContext$.withValue(AttributionContext.scala:332)\n\tat com.databricks.logging.AttributionContextTracing.withAttributionContext(AttributionContextTracing.scala:78)\n\tat com.databricks.logging.AttributionContextTracing.withAttributionContext$(AttributionContextTracing.scala:75)\n\tat com.databricks.rpc.ServerBackend.withAttributionContext(ServerBackend.scala:22)\n\tat com.databricks.logging.AttributionContextTracing.withAttributionTags(AttributionContextTracing.scala:127)\n\tat com.databricks.logging.AttributionContextTracing.withAttributionTags$(AttributionContextTracing.scala:108)\n\tat com.databricks.rpc.ServerBackend.withAttributionTags(ServerBackend.scala:22)\n\tat com.databricks.backend.daemon.data.server.DbfsServerBackend.handleOtherRpc(DbfsServerBackend.scala:995)\n\tat com.databricks.backend.daemon.data.server.DbfsServerBackend.$anonfun$new$21(DbfsServerBackend.scala:339)\n\tat com.databricks.backend.daemon.data.server.DbfsServerBackend.$anonfun$new$21$adapted(DbfsServerBackend.scala:338)\n\tat com.databricks.rpc.armeria.LegacyJettyCompatibilityWrapperBlocking.jettyHandler(CompatServerBackend.scala:489)\n\tat com.databricks.rpc.armeria.RPCContextCapturingPartialFunctionForLegacyRpc.apply(CompatServerBackend.scala:548)\n\tat com.databricks.rpc.armeria.RPCContextCapturingPartialFunctionForLegacyRpc.apply(CompatServerBackend.scala:541)\n\tat scala.PartialFunction.applyOrElse(PartialFunction.scala:127)\n\tat scala.PartialFunction.applyOrElse$(PartialFunction.scala:126)\n\tat com.databricks.rpc.armeria.RPCContextCapturingPartialFunctionForLegacyRpc.applyOrElse(CompatServerBackend.scala:541)\n\tat scala.PartialFunction$OrElse.applyOrElse(PartialFunction.scala:176)\n\tat com.databricks.rpc.ServerBackend.$anonfun$internalReceive0$2(ServerBackend.scala:174)\n\tat com.databricks.rpc.ServerBackend$$anonfun$commonReceive$1.applyOrElse(ServerBackend.scala:200)\n\tat com.databricks.rpc.ServerBackend$$anonfun$commonReceive$1.applyOrElse(ServerBackend.scala:200)\n\tat com.databricks.rpc.ServerBackend.internalReceive0(ServerBackend.scala:171)\n\tat com.databricks.rpc.ServerBackend.$anonfun$internalReceive$1(ServerBackend.scala:147)\n\tat com.databricks.logging.UsageLogging.$anonfun$recordOperation$1(UsageLogging.scala:510)\n\tat com.databricks.logging.UsageLogging.executeThunkAndCaptureResultTags$1(UsageLogging.scala:616)\n\tat com.databricks.logging.UsageLogging.$anonfun$recordOperationWithResultTags$4(UsageLogging.scala:643)\n\tat com.databricks.logging.AttributionContextTracing.$anonfun$withAttributionContext$1(AttributionContextTracing.scala:80)\n\tat com.databricks.logging.AttributionContext$.$anonfun$withValue$1(AttributionContext.scala:336)\n\tat scala.util.DynamicVariable.withValue(DynamicVariable.scala:62)\n\tat com.databricks.logging.AttributionContext$.withValue(AttributionContext.scala:332)\n\tat com.databricks.logging.AttributionContextTracing.withAttributionContext(AttributionContextTracing.scala:78)\n\tat com.databricks.logging.AttributionContextTracing.withAttributionContext$(AttributionContextTracing.scala:75)\n\tat com.databricks.rpc.ServerBackend.withAttributionContext(ServerBackend.scala:22)\n\tat com.databricks.logging.AttributionContextTracing.withAttributionTags(AttributionContextTracing.scala:127)\n\tat com.databricks.logging.AttributionContextTracing.withAttributionTags$(AttributionContextTracing.scala:108)\n\tat com.databricks.rpc.ServerBackend.withAttributionTags(ServerBackend.scala:22)\n\tat com.databricks.logging.UsageLogging.recordOperationWithResultTags(UsageLogging.scala:611)\n\tat com.databricks.logging.UsageLogging.recordOperationWithResultTags$(UsageLogging.scala:519)\n\tat com.databricks.rpc.ServerBackend.recordOperationWithResultTags(ServerBackend.scala:22)\n\tat com.databricks.logging.UsageLogging.recordOperation(UsageLogging.scala:511)\n\tat com.databricks.logging.UsageLogging.recordOperation$(UsageLogging.scala:475)\n\tat com.databricks.rpc.ServerBackend.recordOperation(ServerBackend.scala:22)\n\tat com.databricks.rpc.ServerBackend.internalReceive(ServerBackend.scala:146)\n\tat com.databricks.rpc.JettyServer$RequestManager.handleRPC(JettyServer.scala:997)\n\tat com.databricks.rpc.JettyServer$RequestManager.handleRequestAndRespond(JettyServer.scala:917)\n\tat com.databricks.rpc.JettyServer$RequestManager.$anonfun$handleHttp$5(JettyServer.scala:557)\n\tat com.databricks.rpc.JettyServer$RequestManager.$anonfun$handleHttp$5$adapted(JettyServer.scala:522)\n\tat com.databricks.logging.activity.ActivityContextFactory$.$anonfun$withActivityInternal$12(ActivityContextFactory.scala:966)\n\tat com.databricks.logging.AttributionContextTracing.$anonfun$withAttributionContext$1(AttributionContextTracing.scala:80)\n\tat com.databricks.logging.AttributionContext$.$anonfun$withValue$1(AttributionContext.scala:336)\n\tat scala.util.DynamicVariable.withValue(DynamicVariable.scala:62)\n\tat com.databricks.logging.AttributionContext$.withValue(AttributionContext.scala:332)\n\tat com.databricks.logging.AttributionContextTracing.withAttributionContext(AttributionContextTracing.scala:78)\n\tat com.databricks.logging.AttributionContextTracing.withAttributionContext$(AttributionContextTracing.scala:75)\n\tat com.databricks.logging.activity.ActivityContextFactory$.withAttributionContext(ActivityContextFactory.scala:60)\n\tat com.databricks.logging.activity.ActivityContextFactory$.$anonfun$withActivityInternal$2(ActivityContextFactory.scala:966)\n\tat com.databricks.context.integrity.IntegrityCheckContext$ThreadLocalStorage$.withValue(IntegrityCheckContext.scala:73)\n\tat com.databricks.logging.activity.ActivityContextFactory$.withActivityInternal(ActivityContextFactory.scala:928)\n\tat com.databricks.logging.activity.ActivityContextFactory$.withActivityInternal(ActivityContextFactory.scala:909)\n\tat com.databricks.logging.activity.ActivityContextFactory$.$anonfun$withServiceRequestActivity$26(ActivityContextFactory.scala:338)\n\tat com.databricks.logging.AttributionContextTracing.$anonfun$withAttributionContext$1(AttributionContextTracing.scala:80)\n\tat com.databricks.logging.AttributionContext$.$anonfun$withValue$1(AttributionContext.scala:336)\n\tat scala.util.DynamicVariable.withValue(DynamicVariable.scala:62)\n\tat com.databricks.logging.AttributionContext$.withValue(AttributionContext.scala:332)\n\tat com.databricks.logging.AttributionContextTracing.withAttributionContext(AttributionContextTracing.scala:78)\n\tat com.databricks.logging.AttributionContextTracing.withAttributionContext$(AttributionContextTracing.scala:75)\n\tat com.databricks.logging.activity.ActivityContextFactory$.withAttributionContext(ActivityContextFactory.scala:60)\n\tat com.databricks.logging.activity.ActivityContextFactory$.withServiceRequestActivity(ActivityContextFactory.scala:338)\n\tat com.databricks.rpc.JettyServer$RequestManager.handleHttp(JettyServer.scala:522)\n\tat com.databricks.rpc.JettyServer$RequestManager.doPost(JettyServer.scala:417)\n\tat javax.servlet.http.HttpServlet.service(HttpServlet.java:665)\n\tat com.databricks.rpc.HttpServletWithPatch.service(HttpServletWithPatch.scala:33)\n\tat javax.servlet.http.HttpServlet.service(HttpServlet.java:750)\n\tat org.eclipse.jetty.servlet.ServletHolder.handle(ServletHolder.java:799)\n\tat org.eclipse.jetty.servlet.ServletHandler.doHandle(ServletHandler.java:554)\n\tat org.eclipse.jetty.server.handler.ScopedHandler.nextScope(ScopedHandler.java:190)\n\tat org.eclipse.jetty.servlet.ServletHandler.doScope(ServletHandler.java:505)\n\tat org.eclipse.jetty.server.handler.ScopedHandler.handle(ScopedHandler.java:141)\n\tat org.eclipse.jetty.server.handler.HandlerWrapper.handle(HandlerWrapper.java:127)\n\tat org.eclipse.jetty.server.Server.handle(Server.java:516)\n\tat org.eclipse.jetty.server.HttpChannel.lambda$handle$1(HttpChannel.java:487)\n\tat org.eclipse.jetty.server.HttpChannel.dispatch(HttpChannel.java:732)\n\tat org.eclipse.jetty.server.HttpChannel.handle(HttpChannel.java:479)\n\tat org.eclipse.jetty.server.HttpConnection.onFillable(HttpConnection.java:277)\n\tat org.eclipse.jetty.io.AbstractConnection$ReadCallback.succeeded(AbstractConnection.java:311)\n\tat org.eclipse.jetty.io.FillInterest.fillable(FillInterest.java:105)\n\tat org.eclipse.jetty.io.ChannelEndPoint$1.run(ChannelEndPoint.java:104)\n\tat org.eclipse.jetty.util.thread.strategy.EatWhatYouKill.runTask(EatWhatYouKill.java:338)\n\tat org.eclipse.jetty.util.thread.strategy.EatWhatYouKill.doProduce(EatWhatYouKill.java:315)\n\tat org.eclipse.jetty.util.thread.strategy.EatWhatYouKill.tryProduce(EatWhatYouKill.java:173)\n\tat org.eclipse.jetty.util.thread.strategy.EatWhatYouKill.run(EatWhatYouKill.java:131)\n\tat org.eclipse.jetty.util.thread.ReservedThreadExecutor$ReservedThread.run(ReservedThreadExecutor.java:409)\n\tat com.databricks.rpc.InstrumentedQueuedThreadPool$$anon$1.$anonfun$run$2(InstrumentedQueuedThreadPool.scala:111)\n\tat scala.runtime.java8.JFunction0$mcV$sp.apply(JFunction0$mcV$sp.java:23)\n\tat com.databricks.logging.AttributionContextTracing.$anonfun$withAttributionContext$1(AttributionContextTracing.scala:80)\n\tat com.databricks.logging.AttributionContext$.$anonfun$withValue$1(AttributionContext.scala:336)\n\tat scala.util.DynamicVariable.withValue(DynamicVariable.scala:62)\n\tat com.databricks.logging.AttributionContext$.withValue(AttributionContext.scala:332)\n\tat com.databricks.logging.AttributionContextTracing.withAttributionContext(AttributionContextTracing.scala:78)\n\tat com.databricks.logging.AttributionContextTracing.withAttributionContext$(AttributionContextTracing.scala:75)\n\tat com.databricks.rpc.InstrumentedQueuedThreadPool.withAttributionContext(InstrumentedQueuedThreadPool.scala:46)\n\tat com.databricks.rpc.InstrumentedQueuedThreadPool$$anon$1.$anonfun$run$1(InstrumentedQueuedThreadPool.scala:111)\n\tat scala.runtime.java8.JFunction0$mcV$sp.apply(JFunction0$mcV$sp.java:23)\n\tat com.databricks.instrumentation.QueuedThreadPoolInstrumenter.trackActiveThreads(QueuedThreadPoolInstrumenter.scala:132)\n\tat com.databricks.instrumentation.QueuedThreadPoolInstrumenter.trackActiveThreads$(QueuedThreadPoolInstrumenter.scala:129)\n\tat com.databricks.rpc.InstrumentedQueuedThreadPool.trackActiveThreads(InstrumentedQueuedThreadPool.scala:46)\n\tat com.databricks.rpc.InstrumentedQueuedThreadPool$$anon$1.run(InstrumentedQueuedThreadPool.scala:93)\n\tat org.eclipse.jetty.util.thread.QueuedThreadPool.runJob(QueuedThreadPool.java:883)\n\tat org.eclipse.jetty.util.thread.QueuedThreadPool$Runner.run(QueuedThreadPool.java:1034)\n\tat java.lang.Thread.run(Thread.java:840)\n",
       "errorSummary": "java.rmi.RemoteException: java.lang.IllegalArgumentException: requirement failed: Directory already mounted: /mnt/retailprojectadf; nested exception is: ",
       "errorTraceType": "ansi",
       "metadata": {},
       "type": "ipynbError"
      }
     },
     "output_type": "display_data"
    }
   ],
   "source": [
    "dbutils.fs.mount (\n",
    "    source = \"wasbs://retail@poc13storageretail13.blob.core.windows.net\",\n",
    "    mount_point = '/mnt/retailprojectadf',\n",
    "    extra_configs = {\"fs.azure.account.key.poc13storageretail13.blob.core.windows.net\":\"{key}\"}\n",
    ")"
   ]
  },
  {
   "cell_type": "code",
   "execution_count": 0,
   "metadata": {
    "application/vnd.databricks.v1+cell": {
     "cellMetadata": {
      "byteLimit": 2048000,
      "rowLimit": 10000
     },
     "inputWidgets": {},
     "nuid": "407e9b1e-4b9d-4c1f-9c64-d548f2277433",
     "showTitle": false,
     "tableResultSettingsMap": {},
     "title": ""
    }
   },
   "outputs": [
    {
     "name": "stdout",
     "output_type": "stream",
     "text": [
      "Out[1]: [FileInfo(path='dbfs:/mnt/retailprojectadf/Bronze/Transactions/dbo.transactions.parquet', name='dbo.transactions.parquet', size=1757, modificationTime=1756762455000)]"
     ]
    }
   ],
   "source": [
    "dbutils.fs.ls('/mnt/retailprojectadf/Bronze/Transactions/')"
   ]
  },
  {
   "cell_type": "code",
   "execution_count": 0,
   "metadata": {
    "application/vnd.databricks.v1+cell": {
     "cellMetadata": {
      "byteLimit": 2048000,
      "rowLimit": 10000
     },
     "inputWidgets": {},
     "nuid": "0c3477b2-2259-43aa-a98c-b81103aba8f2",
     "showTitle": false,
     "tableResultSettingsMap": {},
     "title": ""
    }
   },
   "outputs": [
    {
     "data": {
      "text/html": [
       "<style scoped>\n",
       "  .table-result-container {\n",
       "    max-height: 300px;\n",
       "    overflow: auto;\n",
       "  }\n",
       "  table, th, td {\n",
       "    border: 1px solid black;\n",
       "    border-collapse: collapse;\n",
       "  }\n",
       "  th, td {\n",
       "    padding: 5px;\n",
       "  }\n",
       "  th {\n",
       "    text-align: left;\n",
       "  }\n",
       "</style><div class='table-result-container'><table class='table-result'><thead style='background-color: white'><tr><th>transaction_id</th><th>customer_id</th><th>product_id</th><th>store_id</th><th>quantity</th><th>transaction_date</th></tr></thead><tbody><tr><td>1</td><td>127</td><td>8</td><td>4</td><td>4</td><td>2025-03-31</td></tr><tr><td>2</td><td>105</td><td>3</td><td>4</td><td>5</td><td>2024-11-12</td></tr><tr><td>3</td><td>116</td><td>2</td><td>2</td><td>3</td><td>2025-05-01</td></tr><tr><td>4</td><td>120</td><td>8</td><td>1</td><td>1</td><td>2024-11-02</td></tr><tr><td>5</td><td>105</td><td>5</td><td>2</td><td>1</td><td>2025-03-17</td></tr><tr><td>6</td><td>110</td><td>7</td><td>3</td><td>5</td><td>2025-01-04</td></tr><tr><td>7</td><td>110</td><td>7</td><td>2</td><td>5</td><td>2025-01-01</td></tr><tr><td>8</td><td>126</td><td>7</td><td>5</td><td>2</td><td>2025-06-08</td></tr><tr><td>9</td><td>123</td><td>1</td><td>3</td><td>2</td><td>2024-10-08</td></tr><tr><td>10</td><td>124</td><td>2</td><td>2</td><td>5</td><td>2024-08-27</td></tr><tr><td>11</td><td>102</td><td>1</td><td>3</td><td>2</td><td>2024-08-11</td></tr><tr><td>12</td><td>108</td><td>5</td><td>1</td><td>4</td><td>2025-05-26</td></tr><tr><td>13</td><td>104</td><td>3</td><td>3</td><td>4</td><td>2025-05-04</td></tr><tr><td>14</td><td>120</td><td>1</td><td>4</td><td>5</td><td>2024-07-17</td></tr><tr><td>15</td><td>121</td><td>6</td><td>5</td><td>5</td><td>2025-05-19</td></tr><tr><td>16</td><td>118</td><td>6</td><td>2</td><td>4</td><td>2024-11-29</td></tr><tr><td>17</td><td>109</td><td>8</td><td>5</td><td>5</td><td>2024-07-10</td></tr><tr><td>18</td><td>103</td><td>1</td><td>4</td><td>3</td><td>2024-09-05</td></tr><tr><td>19</td><td>116</td><td>8</td><td>4</td><td>4</td><td>2024-07-14</td></tr><tr><td>20</td><td>130</td><td>5</td><td>1</td><td>2</td><td>2024-07-30</td></tr><tr><td>21</td><td>105</td><td>1</td><td>3</td><td>5</td><td>2024-10-02</td></tr><tr><td>22</td><td>107</td><td>9</td><td>3</td><td>4</td><td>2024-11-16</td></tr><tr><td>23</td><td>122</td><td>9</td><td>4</td><td>2</td><td>2025-04-30</td></tr><tr><td>24</td><td>125</td><td>1</td><td>5</td><td>1</td><td>2024-07-14</td></tr><tr><td>25</td><td>116</td><td>8</td><td>4</td><td>5</td><td>2024-12-13</td></tr><tr><td>26</td><td>126</td><td>6</td><td>2</td><td>2</td><td>2024-09-21</td></tr><tr><td>27</td><td>127</td><td>8</td><td>1</td><td>1</td><td>2024-10-10</td></tr><tr><td>28</td><td>101</td><td>7</td><td>5</td><td>3</td><td>2024-11-15</td></tr><tr><td>29</td><td>119</td><td>9</td><td>4</td><td>2</td><td>2025-06-03</td></tr><tr><td>30</td><td>116</td><td>8</td><td>4</td><td>5</td><td>2025-03-16</td></tr></tbody></table></div>"
      ]
     },
     "metadata": {
      "application/vnd.databricks.v1+output": {
       "addedWidgets": {},
       "aggData": [],
       "aggError": "",
       "aggOverflow": false,
       "aggSchema": [],
       "aggSeriesLimitReached": false,
       "aggType": "",
       "arguments": {},
       "columnCustomDisplayInfos": {},
       "data": [
        [
         1,
         127,
         8,
         4,
         4,
         "2025-03-31"
        ],
        [
         2,
         105,
         3,
         4,
         5,
         "2024-11-12"
        ],
        [
         3,
         116,
         2,
         2,
         3,
         "2025-05-01"
        ],
        [
         4,
         120,
         8,
         1,
         1,
         "2024-11-02"
        ],
        [
         5,
         105,
         5,
         2,
         1,
         "2025-03-17"
        ],
        [
         6,
         110,
         7,
         3,
         5,
         "2025-01-04"
        ],
        [
         7,
         110,
         7,
         2,
         5,
         "2025-01-01"
        ],
        [
         8,
         126,
         7,
         5,
         2,
         "2025-06-08"
        ],
        [
         9,
         123,
         1,
         3,
         2,
         "2024-10-08"
        ],
        [
         10,
         124,
         2,
         2,
         5,
         "2024-08-27"
        ],
        [
         11,
         102,
         1,
         3,
         2,
         "2024-08-11"
        ],
        [
         12,
         108,
         5,
         1,
         4,
         "2025-05-26"
        ],
        [
         13,
         104,
         3,
         3,
         4,
         "2025-05-04"
        ],
        [
         14,
         120,
         1,
         4,
         5,
         "2024-07-17"
        ],
        [
         15,
         121,
         6,
         5,
         5,
         "2025-05-19"
        ],
        [
         16,
         118,
         6,
         2,
         4,
         "2024-11-29"
        ],
        [
         17,
         109,
         8,
         5,
         5,
         "2024-07-10"
        ],
        [
         18,
         103,
         1,
         4,
         3,
         "2024-09-05"
        ],
        [
         19,
         116,
         8,
         4,
         4,
         "2024-07-14"
        ],
        [
         20,
         130,
         5,
         1,
         2,
         "2024-07-30"
        ],
        [
         21,
         105,
         1,
         3,
         5,
         "2024-10-02"
        ],
        [
         22,
         107,
         9,
         3,
         4,
         "2024-11-16"
        ],
        [
         23,
         122,
         9,
         4,
         2,
         "2025-04-30"
        ],
        [
         24,
         125,
         1,
         5,
         1,
         "2024-07-14"
        ],
        [
         25,
         116,
         8,
         4,
         5,
         "2024-12-13"
        ],
        [
         26,
         126,
         6,
         2,
         2,
         "2024-09-21"
        ],
        [
         27,
         127,
         8,
         1,
         1,
         "2024-10-10"
        ],
        [
         28,
         101,
         7,
         5,
         3,
         "2024-11-15"
        ],
        [
         29,
         119,
         9,
         4,
         2,
         "2025-06-03"
        ],
        [
         30,
         116,
         8,
         4,
         5,
         "2025-03-16"
        ]
       ],
       "datasetInfos": [],
       "dbfsResultPath": null,
       "isJsonSchema": true,
       "metadata": {},
       "overflow": false,
       "plotOptions": {
        "customPlotOptions": {},
        "displayType": "table",
        "pivotAggregation": null,
        "pivotColumns": null,
        "xColumns": null,
        "yColumns": null
       },
       "removedWidgets": [],
       "schema": [
        {
         "metadata": "{}",
         "name": "transaction_id",
         "type": "\"integer\""
        },
        {
         "metadata": "{}",
         "name": "customer_id",
         "type": "\"integer\""
        },
        {
         "metadata": "{}",
         "name": "product_id",
         "type": "\"integer\""
        },
        {
         "metadata": "{}",
         "name": "store_id",
         "type": "\"integer\""
        },
        {
         "metadata": "{}",
         "name": "quantity",
         "type": "\"integer\""
        },
        {
         "metadata": "{}",
         "name": "transaction_date",
         "type": "\"date\""
        }
       ],
       "type": "table"
      }
     },
     "output_type": "display_data"
    }
   ],
   "source": [
    "df_transactions = spark.read.parquet('/mnt/retailprojectadf/Bronze/Transactions/')\n",
    "# display(df_transactions)\n"
   ]
  },
  {
   "cell_type": "code",
   "execution_count": 0,
   "metadata": {
    "application/vnd.databricks.v1+cell": {
     "cellMetadata": {
      "byteLimit": 2048000,
      "rowLimit": 10000
     },
     "inputWidgets": {},
     "nuid": "71c0d272-7b01-4999-8c31-7b6df27f2bd1",
     "showTitle": false,
     "tableResultSettingsMap": {},
     "title": ""
    }
   },
   "outputs": [],
   "source": [
    "df_products = spark.read.parquet(\"/mnt/retailprojectadf/Bronze/Products/\")\n",
    "df_store = spark.read.parquet(\"/mnt/retailprojectadf/Bronze/Stores/\")\n",
    "\n",
    "# display(df_products)"
   ]
  },
  {
   "cell_type": "code",
   "execution_count": 0,
   "metadata": {
    "application/vnd.databricks.v1+cell": {
     "cellMetadata": {
      "byteLimit": 2048000,
      "rowLimit": 10000
     },
     "inputWidgets": {},
     "nuid": "d0132866-afff-41a9-b53e-aae3d27055dc",
     "showTitle": false,
     "tableResultSettingsMap": {},
     "title": ""
    }
   },
   "outputs": [],
   "source": [
    "df_customers = spark.read.parquet(\"/mnt/retailprojectadf/Bronze/Customers/manish040596/azure-data-engineer---multi-source/refs/heads/main/customers.parquet/\")\n",
    "# display(df_customers)"
   ]
  },
  {
   "cell_type": "markdown",
   "metadata": {
    "application/vnd.databricks.v1+cell": {
     "cellMetadata": {},
     "inputWidgets": {},
     "nuid": "9cad754f-1b74-43d5-af8d-f087351f82aa",
     "showTitle": false,
     "tableResultSettingsMap": {},
     "title": ""
    }
   },
   "source": [
    "Cleaning the data in order to transfer it to silver layer from bronze\n"
   ]
  },
  {
   "cell_type": "code",
   "execution_count": 0,
   "metadata": {
    "application/vnd.databricks.v1+cell": {
     "cellMetadata": {
      "byteLimit": 2048000,
      "rowLimit": 10000
     },
     "inputWidgets": {},
     "nuid": "6c03c61f-7795-4902-96ad-232c55d86462",
     "showTitle": false,
     "tableResultSettingsMap": {},
     "title": ""
    }
   },
   "outputs": [
    {
     "data": {
      "text/html": [
       "<style scoped>\n",
       "  .table-result-container {\n",
       "    max-height: 300px;\n",
       "    overflow: auto;\n",
       "  }\n",
       "  table, th, td {\n",
       "    border: 1px solid black;\n",
       "    border-collapse: collapse;\n",
       "  }\n",
       "  th, td {\n",
       "    padding: 5px;\n",
       "  }\n",
       "  th {\n",
       "    text-align: left;\n",
       "  }\n",
       "</style><div class='table-result-container'><table class='table-result'><thead style='background-color: white'><tr><th>transaction_id</th><th>customer_id</th><th>product_id</th><th>store_id</th><th>quantity</th><th>transaction_date</th></tr></thead><tbody><tr><td>1</td><td>127</td><td>8</td><td>4</td><td>4</td><td>2025-03-31</td></tr><tr><td>2</td><td>105</td><td>3</td><td>4</td><td>5</td><td>2024-11-12</td></tr><tr><td>3</td><td>116</td><td>2</td><td>2</td><td>3</td><td>2025-05-01</td></tr><tr><td>4</td><td>120</td><td>8</td><td>1</td><td>1</td><td>2024-11-02</td></tr><tr><td>5</td><td>105</td><td>5</td><td>2</td><td>1</td><td>2025-03-17</td></tr><tr><td>6</td><td>110</td><td>7</td><td>3</td><td>5</td><td>2025-01-04</td></tr><tr><td>7</td><td>110</td><td>7</td><td>2</td><td>5</td><td>2025-01-01</td></tr><tr><td>8</td><td>126</td><td>7</td><td>5</td><td>2</td><td>2025-06-08</td></tr><tr><td>9</td><td>123</td><td>1</td><td>3</td><td>2</td><td>2024-10-08</td></tr><tr><td>10</td><td>124</td><td>2</td><td>2</td><td>5</td><td>2024-08-27</td></tr><tr><td>11</td><td>102</td><td>1</td><td>3</td><td>2</td><td>2024-08-11</td></tr><tr><td>12</td><td>108</td><td>5</td><td>1</td><td>4</td><td>2025-05-26</td></tr><tr><td>13</td><td>104</td><td>3</td><td>3</td><td>4</td><td>2025-05-04</td></tr><tr><td>14</td><td>120</td><td>1</td><td>4</td><td>5</td><td>2024-07-17</td></tr><tr><td>15</td><td>121</td><td>6</td><td>5</td><td>5</td><td>2025-05-19</td></tr><tr><td>16</td><td>118</td><td>6</td><td>2</td><td>4</td><td>2024-11-29</td></tr><tr><td>17</td><td>109</td><td>8</td><td>5</td><td>5</td><td>2024-07-10</td></tr><tr><td>18</td><td>103</td><td>1</td><td>4</td><td>3</td><td>2024-09-05</td></tr><tr><td>19</td><td>116</td><td>8</td><td>4</td><td>4</td><td>2024-07-14</td></tr><tr><td>20</td><td>130</td><td>5</td><td>1</td><td>2</td><td>2024-07-30</td></tr><tr><td>21</td><td>105</td><td>1</td><td>3</td><td>5</td><td>2024-10-02</td></tr><tr><td>22</td><td>107</td><td>9</td><td>3</td><td>4</td><td>2024-11-16</td></tr><tr><td>23</td><td>122</td><td>9</td><td>4</td><td>2</td><td>2025-04-30</td></tr><tr><td>24</td><td>125</td><td>1</td><td>5</td><td>1</td><td>2024-07-14</td></tr><tr><td>25</td><td>116</td><td>8</td><td>4</td><td>5</td><td>2024-12-13</td></tr><tr><td>26</td><td>126</td><td>6</td><td>2</td><td>2</td><td>2024-09-21</td></tr><tr><td>27</td><td>127</td><td>8</td><td>1</td><td>1</td><td>2024-10-10</td></tr><tr><td>28</td><td>101</td><td>7</td><td>5</td><td>3</td><td>2024-11-15</td></tr><tr><td>29</td><td>119</td><td>9</td><td>4</td><td>2</td><td>2025-06-03</td></tr><tr><td>30</td><td>116</td><td>8</td><td>4</td><td>5</td><td>2025-03-16</td></tr></tbody></table></div>"
      ]
     },
     "metadata": {
      "application/vnd.databricks.v1+output": {
       "addedWidgets": {},
       "aggData": [],
       "aggError": "",
       "aggOverflow": false,
       "aggSchema": [],
       "aggSeriesLimitReached": false,
       "aggType": "",
       "arguments": {},
       "columnCustomDisplayInfos": {},
       "data": [
        [
         1,
         127,
         8,
         4,
         4,
         "2025-03-31"
        ],
        [
         2,
         105,
         3,
         4,
         5,
         "2024-11-12"
        ],
        [
         3,
         116,
         2,
         2,
         3,
         "2025-05-01"
        ],
        [
         4,
         120,
         8,
         1,
         1,
         "2024-11-02"
        ],
        [
         5,
         105,
         5,
         2,
         1,
         "2025-03-17"
        ],
        [
         6,
         110,
         7,
         3,
         5,
         "2025-01-04"
        ],
        [
         7,
         110,
         7,
         2,
         5,
         "2025-01-01"
        ],
        [
         8,
         126,
         7,
         5,
         2,
         "2025-06-08"
        ],
        [
         9,
         123,
         1,
         3,
         2,
         "2024-10-08"
        ],
        [
         10,
         124,
         2,
         2,
         5,
         "2024-08-27"
        ],
        [
         11,
         102,
         1,
         3,
         2,
         "2024-08-11"
        ],
        [
         12,
         108,
         5,
         1,
         4,
         "2025-05-26"
        ],
        [
         13,
         104,
         3,
         3,
         4,
         "2025-05-04"
        ],
        [
         14,
         120,
         1,
         4,
         5,
         "2024-07-17"
        ],
        [
         15,
         121,
         6,
         5,
         5,
         "2025-05-19"
        ],
        [
         16,
         118,
         6,
         2,
         4,
         "2024-11-29"
        ],
        [
         17,
         109,
         8,
         5,
         5,
         "2024-07-10"
        ],
        [
         18,
         103,
         1,
         4,
         3,
         "2024-09-05"
        ],
        [
         19,
         116,
         8,
         4,
         4,
         "2024-07-14"
        ],
        [
         20,
         130,
         5,
         1,
         2,
         "2024-07-30"
        ],
        [
         21,
         105,
         1,
         3,
         5,
         "2024-10-02"
        ],
        [
         22,
         107,
         9,
         3,
         4,
         "2024-11-16"
        ],
        [
         23,
         122,
         9,
         4,
         2,
         "2025-04-30"
        ],
        [
         24,
         125,
         1,
         5,
         1,
         "2024-07-14"
        ],
        [
         25,
         116,
         8,
         4,
         5,
         "2024-12-13"
        ],
        [
         26,
         126,
         6,
         2,
         2,
         "2024-09-21"
        ],
        [
         27,
         127,
         8,
         1,
         1,
         "2024-10-10"
        ],
        [
         28,
         101,
         7,
         5,
         3,
         "2024-11-15"
        ],
        [
         29,
         119,
         9,
         4,
         2,
         "2025-06-03"
        ],
        [
         30,
         116,
         8,
         4,
         5,
         "2025-03-16"
        ]
       ],
       "datasetInfos": [],
       "dbfsResultPath": null,
       "isJsonSchema": true,
       "metadata": {},
       "overflow": false,
       "plotOptions": {
        "customPlotOptions": {},
        "displayType": "table",
        "pivotAggregation": null,
        "pivotColumns": null,
        "xColumns": null,
        "yColumns": null
       },
       "removedWidgets": [],
       "schema": [
        {
         "metadata": "{}",
         "name": "transaction_id",
         "type": "\"integer\""
        },
        {
         "metadata": "{}",
         "name": "customer_id",
         "type": "\"integer\""
        },
        {
         "metadata": "{}",
         "name": "product_id",
         "type": "\"integer\""
        },
        {
         "metadata": "{}",
         "name": "store_id",
         "type": "\"integer\""
        },
        {
         "metadata": "{}",
         "name": "quantity",
         "type": "\"integer\""
        },
        {
         "metadata": "{}",
         "name": "transaction_date",
         "type": "\"date\""
        }
       ],
       "type": "table"
      }
     },
     "output_type": "display_data"
    }
   ],
   "source": [
    "display(df_transactions)"
   ]
  },
  {
   "cell_type": "code",
   "execution_count": 0,
   "metadata": {
    "application/vnd.databricks.v1+cell": {
     "cellMetadata": {
      "byteLimit": 2048000,
      "rowLimit": 10000
     },
     "inputWidgets": {},
     "nuid": "1be8adf8-1208-42d8-b74b-4827f4bc5934",
     "showTitle": false,
     "tableResultSettingsMap": {},
     "title": ""
    }
   },
   "outputs": [],
   "source": [
    "from pyspark.sql.functions import col \n",
    "\n",
    "df_transactions = df_transactions.select(\n",
    "    col(\"transaction_id\").cast(\"int\"),\n",
    "    col(\"customer_id\").cast(\"int\"),\n",
    "    col(\"product_id\").cast(\"int\"),\n",
    "    col(\"store_id\").cast(\"int\"),\n",
    "    col(\"quantity\").cast(\"int\"),\n",
    "    col(\"transaction_date\").cast(\"date\")\n",
    ")\n",
    "\n",
    "df_products = df_products.select(\n",
    "    col(\"product_id\").cast(\"int\"),\n",
    "    col(\"product_name\"),\n",
    "    col(\"category\"),\n",
    "    col(\"price\").cast(\"int\")\n",
    ")\n",
    "\n",
    "df_store = df_store.select(\n",
    "    col(\"store_id\").cast(\"int\"),\n",
    "    col(\"store_name\"),\n",
    "    col(\"location\")\n",
    ")\n",
    "\n",
    "df_customers = df_customers.select(\n",
    "    \"customer_id\" , \"first_name\", \"last_name\",\"email\",\"city\",\"registration_date\"\n",
    ").dropDuplicates([\"customer_id\"])"
   ]
  },
  {
   "cell_type": "code",
   "execution_count": 0,
   "metadata": {
    "application/vnd.databricks.v1+cell": {
     "cellMetadata": {
      "byteLimit": 2048000,
      "rowLimit": 10000
     },
     "inputWidgets": {},
     "nuid": "1a6a8133-143d-457a-aea0-63a4d0565e35",
     "showTitle": false,
     "tableResultSettingsMap": {},
     "title": ""
    }
   },
   "outputs": [],
   "source": [
    "df_silver = df_transactions \\\n",
    "    .join(df_customers, \"customer_id\") \\\n",
    "    .join(df_products, \"product_id\") \\\n",
    "    .join(df_store, \"store_id\") \\\n",
    "    .withColumn(\"total_amount\", col(\"quantity\") * col(\"price\"))"
   ]
  },
  {
   "cell_type": "code",
   "execution_count": 0,
   "metadata": {
    "application/vnd.databricks.v1+cell": {
     "cellMetadata": {
      "byteLimit": 2048000,
      "rowLimit": 10000
     },
     "inputWidgets": {},
     "nuid": "106e266d-5e52-40db-a7d9-c230292861b0",
     "showTitle": false,
     "tableResultSettingsMap": {},
     "title": ""
    }
   },
   "outputs": [
    {
     "data": {
      "text/html": [
       "<style scoped>\n",
       "  .table-result-container {\n",
       "    max-height: 300px;\n",
       "    overflow: auto;\n",
       "  }\n",
       "  table, th, td {\n",
       "    border: 1px solid black;\n",
       "    border-collapse: collapse;\n",
       "  }\n",
       "  th, td {\n",
       "    padding: 5px;\n",
       "  }\n",
       "  th {\n",
       "    text-align: left;\n",
       "  }\n",
       "</style><div class='table-result-container'><table class='table-result'><thead style='background-color: white'><tr><th>store_id</th><th>product_id</th><th>customer_id</th><th>transaction_id</th><th>quantity</th><th>transaction_date</th><th>first_name</th><th>last_name</th><th>email</th><th>city</th><th>registration_date</th><th>product_name</th><th>category</th><th>price</th><th>store_name</th><th>location</th><th>total_amount</th></tr></thead><tbody><tr><td>5</td><td>7</td><td>101</td><td>28</td><td>3</td><td>2024-11-15</td><td>Ravi</td><td>Yadav</td><td>user101@example.com</td><td>Delhi</td><td>2023-09-14</td><td>Smartwatch</td><td>Electronics</td><td>4999</td><td>Mega Plaza</td><td>Chennai</td><td>14997</td></tr><tr><td>3</td><td>1</td><td>102</td><td>11</td><td>2</td><td>2024-08-11</td><td>Nina</td><td>Joshi</td><td>user102@example.com</td><td>Mumbai</td><td>2024-01-21</td><td>Wireless Mouse</td><td>Electronics</td><td>799</td><td>Tech World Outlet</td><td>Bangalore</td><td>1598</td></tr><tr><td>4</td><td>1</td><td>103</td><td>18</td><td>3</td><td>2024-09-05</td><td>Sonal</td><td>Sharma</td><td>user103@example.com</td><td>Bangalore</td><td>2023-07-10</td><td>Wireless Mouse</td><td>Electronics</td><td>799</td><td>Downtown Mini Store</td><td>Pune</td><td>2397</td></tr><tr><td>3</td><td>3</td><td>104</td><td>13</td><td>4</td><td>2025-05-04</td><td>Karan</td><td>Patel</td><td>user104@example.com</td><td>Hyderabad</td><td>2024-02-05</td><td>Yoga Mat</td><td>Fitness</td><td>499</td><td>Tech World Outlet</td><td>Bangalore</td><td>1996</td></tr><tr><td>3</td><td>1</td><td>105</td><td>21</td><td>5</td><td>2024-10-02</td><td>Riya</td><td>Singh</td><td>user105@example.com</td><td>Chennai</td><td>2023-06-28</td><td>Wireless Mouse</td><td>Electronics</td><td>799</td><td>Tech World Outlet</td><td>Bangalore</td><td>3995</td></tr><tr><td>2</td><td>5</td><td>105</td><td>5</td><td>1</td><td>2025-03-17</td><td>Riya</td><td>Singh</td><td>user105@example.com</td><td>Chennai</td><td>2023-06-28</td><td>Notebook Set</td><td>Stationery</td><td>149</td><td>High Street Store</td><td>Delhi</td><td>149</td></tr><tr><td>4</td><td>3</td><td>105</td><td>2</td><td>5</td><td>2024-11-12</td><td>Riya</td><td>Singh</td><td>user105@example.com</td><td>Chennai</td><td>2023-06-28</td><td>Yoga Mat</td><td>Fitness</td><td>499</td><td>Downtown Mini Store</td><td>Pune</td><td>2495</td></tr><tr><td>3</td><td>9</td><td>107</td><td>22</td><td>4</td><td>2024-11-16</td><td>Priya</td><td>Kapoor</td><td>user107@example.com</td><td>Ahmedabad</td><td>2023-05-12</td><td>Dumbbell Set</td><td>Fitness</td><td>1999</td><td>Tech World Outlet</td><td>Bangalore</td><td>7996</td></tr><tr><td>1</td><td>5</td><td>108</td><td>12</td><td>4</td><td>2025-05-26</td><td>Rahul</td><td>Verma</td><td>user108@example.com</td><td>Kolkata</td><td>2023-08-19</td><td>Notebook Set</td><td>Stationery</td><td>149</td><td>City Mall Store</td><td>Mumbai</td><td>596</td></tr><tr><td>5</td><td>8</td><td>109</td><td>17</td><td>5</td><td>2024-07-10</td><td>Pooja</td><td>Mehta</td><td>user109@example.com</td><td>Delhi</td><td>2024-04-01</td><td>Desk Organizer</td><td>Accessories</td><td>399</td><td>Mega Plaza</td><td>Chennai</td><td>1995</td></tr><tr><td>2</td><td>7</td><td>110</td><td>7</td><td>5</td><td>2025-01-01</td><td>Deepak</td><td>Nair</td><td>user110@example.com</td><td>Mumbai</td><td>2023-10-14</td><td>Smartwatch</td><td>Electronics</td><td>4999</td><td>High Street Store</td><td>Delhi</td><td>24995</td></tr><tr><td>3</td><td>7</td><td>110</td><td>6</td><td>5</td><td>2025-01-04</td><td>Deepak</td><td>Nair</td><td>user110@example.com</td><td>Mumbai</td><td>2023-10-14</td><td>Smartwatch</td><td>Electronics</td><td>4999</td><td>Tech World Outlet</td><td>Bangalore</td><td>24995</td></tr><tr><td>4</td><td>8</td><td>116</td><td>30</td><td>5</td><td>2025-03-16</td><td>Rakesh</td><td>Kapoor</td><td>user116@example.com</td><td>Kolkata</td><td>2023-06-15</td><td>Desk Organizer</td><td>Accessories</td><td>399</td><td>Downtown Mini Store</td><td>Pune</td><td>1995</td></tr><tr><td>4</td><td>8</td><td>116</td><td>25</td><td>5</td><td>2024-12-13</td><td>Rakesh</td><td>Kapoor</td><td>user116@example.com</td><td>Kolkata</td><td>2023-06-15</td><td>Desk Organizer</td><td>Accessories</td><td>399</td><td>Downtown Mini Store</td><td>Pune</td><td>1995</td></tr><tr><td>4</td><td>8</td><td>116</td><td>19</td><td>4</td><td>2024-07-14</td><td>Rakesh</td><td>Kapoor</td><td>user116@example.com</td><td>Kolkata</td><td>2023-06-15</td><td>Desk Organizer</td><td>Accessories</td><td>399</td><td>Downtown Mini Store</td><td>Pune</td><td>1596</td></tr><tr><td>2</td><td>2</td><td>116</td><td>3</td><td>3</td><td>2025-05-01</td><td>Rakesh</td><td>Kapoor</td><td>user116@example.com</td><td>Kolkata</td><td>2023-06-15</td><td>Bluetooth Speaker</td><td>Electronics</td><td>1299</td><td>High Street Store</td><td>Delhi</td><td>3897</td></tr><tr><td>2</td><td>6</td><td>118</td><td>16</td><td>4</td><td>2024-11-29</td><td>Vikram</td><td>Mehta</td><td>user118@example.com</td><td>Mumbai</td><td>2023-04-22</td><td>Water Bottle</td><td>Fitness</td><td>299</td><td>High Street Store</td><td>Delhi</td><td>1196</td></tr><tr><td>4</td><td>9</td><td>119</td><td>29</td><td>2</td><td>2025-06-03</td><td>Kunal</td><td>Nair</td><td>user119@example.com</td><td>Bangalore</td><td>2023-08-10</td><td>Dumbbell Set</td><td>Fitness</td><td>1999</td><td>Downtown Mini Store</td><td>Pune</td><td>3998</td></tr><tr><td>4</td><td>1</td><td>120</td><td>14</td><td>5</td><td>2024-07-17</td><td>Alka</td><td>Mishra</td><td>user120@example.com</td><td>Hyderabad</td><td>2023-12-01</td><td>Wireless Mouse</td><td>Electronics</td><td>799</td><td>Downtown Mini Store</td><td>Pune</td><td>3995</td></tr><tr><td>1</td><td>8</td><td>120</td><td>4</td><td>1</td><td>2024-11-02</td><td>Alka</td><td>Mishra</td><td>user120@example.com</td><td>Hyderabad</td><td>2023-12-01</td><td>Desk Organizer</td><td>Accessories</td><td>399</td><td>City Mall Store</td><td>Mumbai</td><td>399</td></tr><tr><td>5</td><td>6</td><td>121</td><td>15</td><td>5</td><td>2025-05-19</td><td>Sanjay</td><td>Patel</td><td>user121@example.com</td><td>Chennai</td><td>2024-01-10</td><td>Water Bottle</td><td>Fitness</td><td>299</td><td>Mega Plaza</td><td>Chennai</td><td>1495</td></tr><tr><td>4</td><td>9</td><td>122</td><td>23</td><td>2</td><td>2025-04-30</td><td>Tina</td><td>Kapoor</td><td>user122@example.com</td><td>Pune</td><td>2023-09-20</td><td>Dumbbell Set</td><td>Fitness</td><td>1999</td><td>Downtown Mini Store</td><td>Pune</td><td>3998</td></tr><tr><td>3</td><td>1</td><td>123</td><td>9</td><td>2</td><td>2024-10-08</td><td>Arjun</td><td>Yadav</td><td>user123@example.com</td><td>Ahmedabad</td><td>2024-02-25</td><td>Wireless Mouse</td><td>Electronics</td><td>799</td><td>Tech World Outlet</td><td>Bangalore</td><td>1598</td></tr><tr><td>2</td><td>2</td><td>124</td><td>10</td><td>5</td><td>2024-08-27</td><td>Kavita</td><td>Sharma</td><td>user124@example.com</td><td>Kolkata</td><td>2023-11-15</td><td>Bluetooth Speaker</td><td>Electronics</td><td>1299</td><td>High Street Store</td><td>Delhi</td><td>6495</td></tr><tr><td>5</td><td>1</td><td>125</td><td>24</td><td>1</td><td>2024-07-14</td><td>Tarun</td><td>Verma</td><td>user125@example.com</td><td>Delhi</td><td>2024-04-05</td><td>Wireless Mouse</td><td>Electronics</td><td>799</td><td>Mega Plaza</td><td>Chennai</td><td>799</td></tr><tr><td>2</td><td>6</td><td>126</td><td>26</td><td>2</td><td>2024-09-21</td><td>Bhavna</td><td>Nair</td><td>user126@example.com</td><td>Mumbai</td><td>2023-07-17</td><td>Water Bottle</td><td>Fitness</td><td>299</td><td>High Street Store</td><td>Delhi</td><td>598</td></tr><tr><td>5</td><td>7</td><td>126</td><td>8</td><td>2</td><td>2025-06-08</td><td>Bhavna</td><td>Nair</td><td>user126@example.com</td><td>Mumbai</td><td>2023-07-17</td><td>Smartwatch</td><td>Electronics</td><td>4999</td><td>Mega Plaza</td><td>Chennai</td><td>9998</td></tr><tr><td>1</td><td>8</td><td>127</td><td>27</td><td>1</td><td>2024-10-10</td><td>Rohit</td><td>Mehta</td><td>user127@example.com</td><td>Bangalore</td><td>2023-08-30</td><td>Desk Organizer</td><td>Accessories</td><td>399</td><td>City Mall Store</td><td>Mumbai</td><td>399</td></tr><tr><td>4</td><td>8</td><td>127</td><td>1</td><td>4</td><td>2025-03-31</td><td>Rohit</td><td>Mehta</td><td>user127@example.com</td><td>Bangalore</td><td>2023-08-30</td><td>Desk Organizer</td><td>Accessories</td><td>399</td><td>Downtown Mini Store</td><td>Pune</td><td>1596</td></tr><tr><td>1</td><td>5</td><td>130</td><td>20</td><td>2</td><td>2024-07-30</td><td>Tanvi</td><td>Kapoor</td><td>user130@example.com</td><td>Pune</td><td>2023-12-22</td><td>Notebook Set</td><td>Stationery</td><td>149</td><td>City Mall Store</td><td>Mumbai</td><td>298</td></tr></tbody></table></div>"
      ]
     },
     "metadata": {
      "application/vnd.databricks.v1+output": {
       "addedWidgets": {},
       "aggData": [],
       "aggError": "",
       "aggOverflow": false,
       "aggSchema": [],
       "aggSeriesLimitReached": false,
       "aggType": "",
       "arguments": {},
       "columnCustomDisplayInfos": {},
       "data": [
        [
         5,
         7,
         101,
         28,
         3,
         "2024-11-15",
         "Ravi",
         "Yadav",
         "user101@example.com",
         "Delhi",
         "2023-09-14",
         "Smartwatch",
         "Electronics",
         4999,
         "Mega Plaza",
         "Chennai",
         14997
        ],
        [
         3,
         1,
         102,
         11,
         2,
         "2024-08-11",
         "Nina",
         "Joshi",
         "user102@example.com",
         "Mumbai",
         "2024-01-21",
         "Wireless Mouse",
         "Electronics",
         799,
         "Tech World Outlet",
         "Bangalore",
         1598
        ],
        [
         4,
         1,
         103,
         18,
         3,
         "2024-09-05",
         "Sonal",
         "Sharma",
         "user103@example.com",
         "Bangalore",
         "2023-07-10",
         "Wireless Mouse",
         "Electronics",
         799,
         "Downtown Mini Store",
         "Pune",
         2397
        ],
        [
         3,
         3,
         104,
         13,
         4,
         "2025-05-04",
         "Karan",
         "Patel",
         "user104@example.com",
         "Hyderabad",
         "2024-02-05",
         "Yoga Mat",
         "Fitness",
         499,
         "Tech World Outlet",
         "Bangalore",
         1996
        ],
        [
         3,
         1,
         105,
         21,
         5,
         "2024-10-02",
         "Riya",
         "Singh",
         "user105@example.com",
         "Chennai",
         "2023-06-28",
         "Wireless Mouse",
         "Electronics",
         799,
         "Tech World Outlet",
         "Bangalore",
         3995
        ],
        [
         2,
         5,
         105,
         5,
         1,
         "2025-03-17",
         "Riya",
         "Singh",
         "user105@example.com",
         "Chennai",
         "2023-06-28",
         "Notebook Set",
         "Stationery",
         149,
         "High Street Store",
         "Delhi",
         149
        ],
        [
         4,
         3,
         105,
         2,
         5,
         "2024-11-12",
         "Riya",
         "Singh",
         "user105@example.com",
         "Chennai",
         "2023-06-28",
         "Yoga Mat",
         "Fitness",
         499,
         "Downtown Mini Store",
         "Pune",
         2495
        ],
        [
         3,
         9,
         107,
         22,
         4,
         "2024-11-16",
         "Priya",
         "Kapoor",
         "user107@example.com",
         "Ahmedabad",
         "2023-05-12",
         "Dumbbell Set",
         "Fitness",
         1999,
         "Tech World Outlet",
         "Bangalore",
         7996
        ],
        [
         1,
         5,
         108,
         12,
         4,
         "2025-05-26",
         "Rahul",
         "Verma",
         "user108@example.com",
         "Kolkata",
         "2023-08-19",
         "Notebook Set",
         "Stationery",
         149,
         "City Mall Store",
         "Mumbai",
         596
        ],
        [
         5,
         8,
         109,
         17,
         5,
         "2024-07-10",
         "Pooja",
         "Mehta",
         "user109@example.com",
         "Delhi",
         "2024-04-01",
         "Desk Organizer",
         "Accessories",
         399,
         "Mega Plaza",
         "Chennai",
         1995
        ],
        [
         2,
         7,
         110,
         7,
         5,
         "2025-01-01",
         "Deepak",
         "Nair",
         "user110@example.com",
         "Mumbai",
         "2023-10-14",
         "Smartwatch",
         "Electronics",
         4999,
         "High Street Store",
         "Delhi",
         24995
        ],
        [
         3,
         7,
         110,
         6,
         5,
         "2025-01-04",
         "Deepak",
         "Nair",
         "user110@example.com",
         "Mumbai",
         "2023-10-14",
         "Smartwatch",
         "Electronics",
         4999,
         "Tech World Outlet",
         "Bangalore",
         24995
        ],
        [
         4,
         8,
         116,
         30,
         5,
         "2025-03-16",
         "Rakesh",
         "Kapoor",
         "user116@example.com",
         "Kolkata",
         "2023-06-15",
         "Desk Organizer",
         "Accessories",
         399,
         "Downtown Mini Store",
         "Pune",
         1995
        ],
        [
         4,
         8,
         116,
         25,
         5,
         "2024-12-13",
         "Rakesh",
         "Kapoor",
         "user116@example.com",
         "Kolkata",
         "2023-06-15",
         "Desk Organizer",
         "Accessories",
         399,
         "Downtown Mini Store",
         "Pune",
         1995
        ],
        [
         4,
         8,
         116,
         19,
         4,
         "2024-07-14",
         "Rakesh",
         "Kapoor",
         "user116@example.com",
         "Kolkata",
         "2023-06-15",
         "Desk Organizer",
         "Accessories",
         399,
         "Downtown Mini Store",
         "Pune",
         1596
        ],
        [
         2,
         2,
         116,
         3,
         3,
         "2025-05-01",
         "Rakesh",
         "Kapoor",
         "user116@example.com",
         "Kolkata",
         "2023-06-15",
         "Bluetooth Speaker",
         "Electronics",
         1299,
         "High Street Store",
         "Delhi",
         3897
        ],
        [
         2,
         6,
         118,
         16,
         4,
         "2024-11-29",
         "Vikram",
         "Mehta",
         "user118@example.com",
         "Mumbai",
         "2023-04-22",
         "Water Bottle",
         "Fitness",
         299,
         "High Street Store",
         "Delhi",
         1196
        ],
        [
         4,
         9,
         119,
         29,
         2,
         "2025-06-03",
         "Kunal",
         "Nair",
         "user119@example.com",
         "Bangalore",
         "2023-08-10",
         "Dumbbell Set",
         "Fitness",
         1999,
         "Downtown Mini Store",
         "Pune",
         3998
        ],
        [
         4,
         1,
         120,
         14,
         5,
         "2024-07-17",
         "Alka",
         "Mishra",
         "user120@example.com",
         "Hyderabad",
         "2023-12-01",
         "Wireless Mouse",
         "Electronics",
         799,
         "Downtown Mini Store",
         "Pune",
         3995
        ],
        [
         1,
         8,
         120,
         4,
         1,
         "2024-11-02",
         "Alka",
         "Mishra",
         "user120@example.com",
         "Hyderabad",
         "2023-12-01",
         "Desk Organizer",
         "Accessories",
         399,
         "City Mall Store",
         "Mumbai",
         399
        ],
        [
         5,
         6,
         121,
         15,
         5,
         "2025-05-19",
         "Sanjay",
         "Patel",
         "user121@example.com",
         "Chennai",
         "2024-01-10",
         "Water Bottle",
         "Fitness",
         299,
         "Mega Plaza",
         "Chennai",
         1495
        ],
        [
         4,
         9,
         122,
         23,
         2,
         "2025-04-30",
         "Tina",
         "Kapoor",
         "user122@example.com",
         "Pune",
         "2023-09-20",
         "Dumbbell Set",
         "Fitness",
         1999,
         "Downtown Mini Store",
         "Pune",
         3998
        ],
        [
         3,
         1,
         123,
         9,
         2,
         "2024-10-08",
         "Arjun",
         "Yadav",
         "user123@example.com",
         "Ahmedabad",
         "2024-02-25",
         "Wireless Mouse",
         "Electronics",
         799,
         "Tech World Outlet",
         "Bangalore",
         1598
        ],
        [
         2,
         2,
         124,
         10,
         5,
         "2024-08-27",
         "Kavita",
         "Sharma",
         "user124@example.com",
         "Kolkata",
         "2023-11-15",
         "Bluetooth Speaker",
         "Electronics",
         1299,
         "High Street Store",
         "Delhi",
         6495
        ],
        [
         5,
         1,
         125,
         24,
         1,
         "2024-07-14",
         "Tarun",
         "Verma",
         "user125@example.com",
         "Delhi",
         "2024-04-05",
         "Wireless Mouse",
         "Electronics",
         799,
         "Mega Plaza",
         "Chennai",
         799
        ],
        [
         2,
         6,
         126,
         26,
         2,
         "2024-09-21",
         "Bhavna",
         "Nair",
         "user126@example.com",
         "Mumbai",
         "2023-07-17",
         "Water Bottle",
         "Fitness",
         299,
         "High Street Store",
         "Delhi",
         598
        ],
        [
         5,
         7,
         126,
         8,
         2,
         "2025-06-08",
         "Bhavna",
         "Nair",
         "user126@example.com",
         "Mumbai",
         "2023-07-17",
         "Smartwatch",
         "Electronics",
         4999,
         "Mega Plaza",
         "Chennai",
         9998
        ],
        [
         1,
         8,
         127,
         27,
         1,
         "2024-10-10",
         "Rohit",
         "Mehta",
         "user127@example.com",
         "Bangalore",
         "2023-08-30",
         "Desk Organizer",
         "Accessories",
         399,
         "City Mall Store",
         "Mumbai",
         399
        ],
        [
         4,
         8,
         127,
         1,
         4,
         "2025-03-31",
         "Rohit",
         "Mehta",
         "user127@example.com",
         "Bangalore",
         "2023-08-30",
         "Desk Organizer",
         "Accessories",
         399,
         "Downtown Mini Store",
         "Pune",
         1596
        ],
        [
         1,
         5,
         130,
         20,
         2,
         "2024-07-30",
         "Tanvi",
         "Kapoor",
         "user130@example.com",
         "Pune",
         "2023-12-22",
         "Notebook Set",
         "Stationery",
         149,
         "City Mall Store",
         "Mumbai",
         298
        ]
       ],
       "datasetInfos": [],
       "dbfsResultPath": null,
       "isJsonSchema": true,
       "metadata": {},
       "overflow": false,
       "plotOptions": {
        "customPlotOptions": {},
        "displayType": "table",
        "pivotAggregation": null,
        "pivotColumns": null,
        "xColumns": null,
        "yColumns": null
       },
       "removedWidgets": [],
       "schema": [
        {
         "metadata": "{}",
         "name": "store_id",
         "type": "\"integer\""
        },
        {
         "metadata": "{}",
         "name": "product_id",
         "type": "\"integer\""
        },
        {
         "metadata": "{}",
         "name": "customer_id",
         "type": "\"integer\""
        },
        {
         "metadata": "{}",
         "name": "transaction_id",
         "type": "\"integer\""
        },
        {
         "metadata": "{}",
         "name": "quantity",
         "type": "\"integer\""
        },
        {
         "metadata": "{}",
         "name": "transaction_date",
         "type": "\"date\""
        },
        {
         "metadata": "{}",
         "name": "first_name",
         "type": "\"string\""
        },
        {
         "metadata": "{}",
         "name": "last_name",
         "type": "\"string\""
        },
        {
         "metadata": "{}",
         "name": "email",
         "type": "\"string\""
        },
        {
         "metadata": "{}",
         "name": "city",
         "type": "\"string\""
        },
        {
         "metadata": "{}",
         "name": "registration_date",
         "type": "\"string\""
        },
        {
         "metadata": "{}",
         "name": "product_name",
         "type": "\"string\""
        },
        {
         "metadata": "{}",
         "name": "category",
         "type": "\"string\""
        },
        {
         "metadata": "{}",
         "name": "price",
         "type": "\"integer\""
        },
        {
         "metadata": "{}",
         "name": "store_name",
         "type": "\"string\""
        },
        {
         "metadata": "{}",
         "name": "location",
         "type": "\"string\""
        },
        {
         "metadata": "{}",
         "name": "total_amount",
         "type": "\"integer\""
        }
       ],
       "type": "table"
      }
     },
     "output_type": "display_data"
    }
   ],
   "source": [
    "\n",
    "display(df_silver)"
   ]
  },
  {
   "cell_type": "code",
   "execution_count": 0,
   "metadata": {
    "application/vnd.databricks.v1+cell": {
     "cellMetadata": {
      "byteLimit": 2048000,
      "rowLimit": 10000
     },
     "inputWidgets": {},
     "nuid": "40c1c2d1-0c55-496c-a748-73371d0132aa",
     "showTitle": false,
     "tableResultSettingsMap": {},
     "title": ""
    }
   },
   "outputs": [],
   "source": [
    "# DBTITLE 1,dump to adls location\n",
    "silver_path = \"/mnt/retailprojectadf/silver/\"\n",
    "df_silver.write.mode(\"overwrite\").format(\"delta\").save(silver_path)\n",
    "# COMMAND ----------\n",
    "\n",
    "\n"
   ]
  },
  {
   "cell_type": "code",
   "execution_count": 0,
   "metadata": {
    "application/vnd.databricks.v1+cell": {
     "cellMetadata": {
      "byteLimit": 2048000,
      "rowLimit": 10000
     },
     "inputWidgets": {},
     "nuid": "eeb8d14f-2068-402c-97d3-1817c01d2e9c",
     "showTitle": false,
     "tableResultSettingsMap": {},
     "title": ""
    }
   },
   "outputs": [
    {
     "name": "stdout",
     "output_type": "stream",
     "text": [
      "Out[18]: DataFrame[]"
     ]
    }
   ],
   "source": [
    "# DBTITLE 1,create silver dataset\n",
    "spark.sql(f\"\"\"\n",
    "CREATE TABLE retail_silver_cleaned\n",
    "USING DELTA\n",
    "LOCATION '/mnt/retailprojectadf/silver/'\n",
    "\"\"\")"
   ]
  },
  {
   "cell_type": "code",
   "execution_count": 0,
   "metadata": {
    "application/vnd.databricks.v1+cell": {
     "cellMetadata": {
      "byteLimit": 2048000,
      "implicitDf": true,
      "rowLimit": 10000
     },
     "inputWidgets": {},
     "nuid": "18d06ee7-369f-459a-b0df-399c35962252",
     "showTitle": false,
     "tableResultSettingsMap": {},
     "title": ""
    }
   },
   "outputs": [
    {
     "data": {
      "text/html": [
       "<style scoped>\n",
       "  .table-result-container {\n",
       "    max-height: 300px;\n",
       "    overflow: auto;\n",
       "  }\n",
       "  table, th, td {\n",
       "    border: 1px solid black;\n",
       "    border-collapse: collapse;\n",
       "  }\n",
       "  th, td {\n",
       "    padding: 5px;\n",
       "  }\n",
       "  th {\n",
       "    text-align: left;\n",
       "  }\n",
       "</style><div class='table-result-container'><table class='table-result'><thead style='background-color: white'><tr><th>store_id</th><th>product_id</th><th>customer_id</th><th>transaction_id</th><th>quantity</th><th>transaction_date</th><th>first_name</th><th>last_name</th><th>email</th><th>city</th><th>registration_date</th><th>product_name</th><th>category</th><th>price</th><th>store_name</th><th>location</th><th>total_amount</th></tr></thead><tbody><tr><td>5</td><td>7</td><td>101</td><td>28</td><td>3</td><td>2024-11-15</td><td>Ravi</td><td>Yadav</td><td>user101@example.com</td><td>Delhi</td><td>2023-09-14</td><td>Smartwatch</td><td>Electronics</td><td>4999</td><td>Mega Plaza</td><td>Chennai</td><td>14997</td></tr><tr><td>3</td><td>1</td><td>102</td><td>11</td><td>2</td><td>2024-08-11</td><td>Nina</td><td>Joshi</td><td>user102@example.com</td><td>Mumbai</td><td>2024-01-21</td><td>Wireless Mouse</td><td>Electronics</td><td>799</td><td>Tech World Outlet</td><td>Bangalore</td><td>1598</td></tr><tr><td>4</td><td>1</td><td>103</td><td>18</td><td>3</td><td>2024-09-05</td><td>Sonal</td><td>Sharma</td><td>user103@example.com</td><td>Bangalore</td><td>2023-07-10</td><td>Wireless Mouse</td><td>Electronics</td><td>799</td><td>Downtown Mini Store</td><td>Pune</td><td>2397</td></tr><tr><td>3</td><td>3</td><td>104</td><td>13</td><td>4</td><td>2025-05-04</td><td>Karan</td><td>Patel</td><td>user104@example.com</td><td>Hyderabad</td><td>2024-02-05</td><td>Yoga Mat</td><td>Fitness</td><td>499</td><td>Tech World Outlet</td><td>Bangalore</td><td>1996</td></tr><tr><td>3</td><td>1</td><td>105</td><td>21</td><td>5</td><td>2024-10-02</td><td>Riya</td><td>Singh</td><td>user105@example.com</td><td>Chennai</td><td>2023-06-28</td><td>Wireless Mouse</td><td>Electronics</td><td>799</td><td>Tech World Outlet</td><td>Bangalore</td><td>3995</td></tr><tr><td>2</td><td>5</td><td>105</td><td>5</td><td>1</td><td>2025-03-17</td><td>Riya</td><td>Singh</td><td>user105@example.com</td><td>Chennai</td><td>2023-06-28</td><td>Notebook Set</td><td>Stationery</td><td>149</td><td>High Street Store</td><td>Delhi</td><td>149</td></tr><tr><td>4</td><td>3</td><td>105</td><td>2</td><td>5</td><td>2024-11-12</td><td>Riya</td><td>Singh</td><td>user105@example.com</td><td>Chennai</td><td>2023-06-28</td><td>Yoga Mat</td><td>Fitness</td><td>499</td><td>Downtown Mini Store</td><td>Pune</td><td>2495</td></tr><tr><td>3</td><td>9</td><td>107</td><td>22</td><td>4</td><td>2024-11-16</td><td>Priya</td><td>Kapoor</td><td>user107@example.com</td><td>Ahmedabad</td><td>2023-05-12</td><td>Dumbbell Set</td><td>Fitness</td><td>1999</td><td>Tech World Outlet</td><td>Bangalore</td><td>7996</td></tr><tr><td>1</td><td>5</td><td>108</td><td>12</td><td>4</td><td>2025-05-26</td><td>Rahul</td><td>Verma</td><td>user108@example.com</td><td>Kolkata</td><td>2023-08-19</td><td>Notebook Set</td><td>Stationery</td><td>149</td><td>City Mall Store</td><td>Mumbai</td><td>596</td></tr><tr><td>5</td><td>8</td><td>109</td><td>17</td><td>5</td><td>2024-07-10</td><td>Pooja</td><td>Mehta</td><td>user109@example.com</td><td>Delhi</td><td>2024-04-01</td><td>Desk Organizer</td><td>Accessories</td><td>399</td><td>Mega Plaza</td><td>Chennai</td><td>1995</td></tr><tr><td>2</td><td>7</td><td>110</td><td>7</td><td>5</td><td>2025-01-01</td><td>Deepak</td><td>Nair</td><td>user110@example.com</td><td>Mumbai</td><td>2023-10-14</td><td>Smartwatch</td><td>Electronics</td><td>4999</td><td>High Street Store</td><td>Delhi</td><td>24995</td></tr><tr><td>3</td><td>7</td><td>110</td><td>6</td><td>5</td><td>2025-01-04</td><td>Deepak</td><td>Nair</td><td>user110@example.com</td><td>Mumbai</td><td>2023-10-14</td><td>Smartwatch</td><td>Electronics</td><td>4999</td><td>Tech World Outlet</td><td>Bangalore</td><td>24995</td></tr><tr><td>4</td><td>8</td><td>116</td><td>30</td><td>5</td><td>2025-03-16</td><td>Rakesh</td><td>Kapoor</td><td>user116@example.com</td><td>Kolkata</td><td>2023-06-15</td><td>Desk Organizer</td><td>Accessories</td><td>399</td><td>Downtown Mini Store</td><td>Pune</td><td>1995</td></tr><tr><td>4</td><td>8</td><td>116</td><td>25</td><td>5</td><td>2024-12-13</td><td>Rakesh</td><td>Kapoor</td><td>user116@example.com</td><td>Kolkata</td><td>2023-06-15</td><td>Desk Organizer</td><td>Accessories</td><td>399</td><td>Downtown Mini Store</td><td>Pune</td><td>1995</td></tr><tr><td>4</td><td>8</td><td>116</td><td>19</td><td>4</td><td>2024-07-14</td><td>Rakesh</td><td>Kapoor</td><td>user116@example.com</td><td>Kolkata</td><td>2023-06-15</td><td>Desk Organizer</td><td>Accessories</td><td>399</td><td>Downtown Mini Store</td><td>Pune</td><td>1596</td></tr><tr><td>2</td><td>2</td><td>116</td><td>3</td><td>3</td><td>2025-05-01</td><td>Rakesh</td><td>Kapoor</td><td>user116@example.com</td><td>Kolkata</td><td>2023-06-15</td><td>Bluetooth Speaker</td><td>Electronics</td><td>1299</td><td>High Street Store</td><td>Delhi</td><td>3897</td></tr><tr><td>2</td><td>6</td><td>118</td><td>16</td><td>4</td><td>2024-11-29</td><td>Vikram</td><td>Mehta</td><td>user118@example.com</td><td>Mumbai</td><td>2023-04-22</td><td>Water Bottle</td><td>Fitness</td><td>299</td><td>High Street Store</td><td>Delhi</td><td>1196</td></tr><tr><td>4</td><td>9</td><td>119</td><td>29</td><td>2</td><td>2025-06-03</td><td>Kunal</td><td>Nair</td><td>user119@example.com</td><td>Bangalore</td><td>2023-08-10</td><td>Dumbbell Set</td><td>Fitness</td><td>1999</td><td>Downtown Mini Store</td><td>Pune</td><td>3998</td></tr><tr><td>4</td><td>1</td><td>120</td><td>14</td><td>5</td><td>2024-07-17</td><td>Alka</td><td>Mishra</td><td>user120@example.com</td><td>Hyderabad</td><td>2023-12-01</td><td>Wireless Mouse</td><td>Electronics</td><td>799</td><td>Downtown Mini Store</td><td>Pune</td><td>3995</td></tr><tr><td>1</td><td>8</td><td>120</td><td>4</td><td>1</td><td>2024-11-02</td><td>Alka</td><td>Mishra</td><td>user120@example.com</td><td>Hyderabad</td><td>2023-12-01</td><td>Desk Organizer</td><td>Accessories</td><td>399</td><td>City Mall Store</td><td>Mumbai</td><td>399</td></tr><tr><td>5</td><td>6</td><td>121</td><td>15</td><td>5</td><td>2025-05-19</td><td>Sanjay</td><td>Patel</td><td>user121@example.com</td><td>Chennai</td><td>2024-01-10</td><td>Water Bottle</td><td>Fitness</td><td>299</td><td>Mega Plaza</td><td>Chennai</td><td>1495</td></tr><tr><td>4</td><td>9</td><td>122</td><td>23</td><td>2</td><td>2025-04-30</td><td>Tina</td><td>Kapoor</td><td>user122@example.com</td><td>Pune</td><td>2023-09-20</td><td>Dumbbell Set</td><td>Fitness</td><td>1999</td><td>Downtown Mini Store</td><td>Pune</td><td>3998</td></tr><tr><td>3</td><td>1</td><td>123</td><td>9</td><td>2</td><td>2024-10-08</td><td>Arjun</td><td>Yadav</td><td>user123@example.com</td><td>Ahmedabad</td><td>2024-02-25</td><td>Wireless Mouse</td><td>Electronics</td><td>799</td><td>Tech World Outlet</td><td>Bangalore</td><td>1598</td></tr><tr><td>2</td><td>2</td><td>124</td><td>10</td><td>5</td><td>2024-08-27</td><td>Kavita</td><td>Sharma</td><td>user124@example.com</td><td>Kolkata</td><td>2023-11-15</td><td>Bluetooth Speaker</td><td>Electronics</td><td>1299</td><td>High Street Store</td><td>Delhi</td><td>6495</td></tr><tr><td>5</td><td>1</td><td>125</td><td>24</td><td>1</td><td>2024-07-14</td><td>Tarun</td><td>Verma</td><td>user125@example.com</td><td>Delhi</td><td>2024-04-05</td><td>Wireless Mouse</td><td>Electronics</td><td>799</td><td>Mega Plaza</td><td>Chennai</td><td>799</td></tr><tr><td>2</td><td>6</td><td>126</td><td>26</td><td>2</td><td>2024-09-21</td><td>Bhavna</td><td>Nair</td><td>user126@example.com</td><td>Mumbai</td><td>2023-07-17</td><td>Water Bottle</td><td>Fitness</td><td>299</td><td>High Street Store</td><td>Delhi</td><td>598</td></tr><tr><td>5</td><td>7</td><td>126</td><td>8</td><td>2</td><td>2025-06-08</td><td>Bhavna</td><td>Nair</td><td>user126@example.com</td><td>Mumbai</td><td>2023-07-17</td><td>Smartwatch</td><td>Electronics</td><td>4999</td><td>Mega Plaza</td><td>Chennai</td><td>9998</td></tr><tr><td>1</td><td>8</td><td>127</td><td>27</td><td>1</td><td>2024-10-10</td><td>Rohit</td><td>Mehta</td><td>user127@example.com</td><td>Bangalore</td><td>2023-08-30</td><td>Desk Organizer</td><td>Accessories</td><td>399</td><td>City Mall Store</td><td>Mumbai</td><td>399</td></tr><tr><td>4</td><td>8</td><td>127</td><td>1</td><td>4</td><td>2025-03-31</td><td>Rohit</td><td>Mehta</td><td>user127@example.com</td><td>Bangalore</td><td>2023-08-30</td><td>Desk Organizer</td><td>Accessories</td><td>399</td><td>Downtown Mini Store</td><td>Pune</td><td>1596</td></tr><tr><td>1</td><td>5</td><td>130</td><td>20</td><td>2</td><td>2024-07-30</td><td>Tanvi</td><td>Kapoor</td><td>user130@example.com</td><td>Pune</td><td>2023-12-22</td><td>Notebook Set</td><td>Stationery</td><td>149</td><td>City Mall Store</td><td>Mumbai</td><td>298</td></tr></tbody></table></div>"
      ]
     },
     "metadata": {
      "application/vnd.databricks.v1+output": {
       "addedWidgets": {},
       "aggData": [],
       "aggError": "",
       "aggOverflow": false,
       "aggSchema": [],
       "aggSeriesLimitReached": false,
       "aggType": "",
       "arguments": {},
       "columnCustomDisplayInfos": {},
       "data": [
        [
         5,
         7,
         101,
         28,
         3,
         "2024-11-15",
         "Ravi",
         "Yadav",
         "user101@example.com",
         "Delhi",
         "2023-09-14",
         "Smartwatch",
         "Electronics",
         4999,
         "Mega Plaza",
         "Chennai",
         14997
        ],
        [
         3,
         1,
         102,
         11,
         2,
         "2024-08-11",
         "Nina",
         "Joshi",
         "user102@example.com",
         "Mumbai",
         "2024-01-21",
         "Wireless Mouse",
         "Electronics",
         799,
         "Tech World Outlet",
         "Bangalore",
         1598
        ],
        [
         4,
         1,
         103,
         18,
         3,
         "2024-09-05",
         "Sonal",
         "Sharma",
         "user103@example.com",
         "Bangalore",
         "2023-07-10",
         "Wireless Mouse",
         "Electronics",
         799,
         "Downtown Mini Store",
         "Pune",
         2397
        ],
        [
         3,
         3,
         104,
         13,
         4,
         "2025-05-04",
         "Karan",
         "Patel",
         "user104@example.com",
         "Hyderabad",
         "2024-02-05",
         "Yoga Mat",
         "Fitness",
         499,
         "Tech World Outlet",
         "Bangalore",
         1996
        ],
        [
         3,
         1,
         105,
         21,
         5,
         "2024-10-02",
         "Riya",
         "Singh",
         "user105@example.com",
         "Chennai",
         "2023-06-28",
         "Wireless Mouse",
         "Electronics",
         799,
         "Tech World Outlet",
         "Bangalore",
         3995
        ],
        [
         2,
         5,
         105,
         5,
         1,
         "2025-03-17",
         "Riya",
         "Singh",
         "user105@example.com",
         "Chennai",
         "2023-06-28",
         "Notebook Set",
         "Stationery",
         149,
         "High Street Store",
         "Delhi",
         149
        ],
        [
         4,
         3,
         105,
         2,
         5,
         "2024-11-12",
         "Riya",
         "Singh",
         "user105@example.com",
         "Chennai",
         "2023-06-28",
         "Yoga Mat",
         "Fitness",
         499,
         "Downtown Mini Store",
         "Pune",
         2495
        ],
        [
         3,
         9,
         107,
         22,
         4,
         "2024-11-16",
         "Priya",
         "Kapoor",
         "user107@example.com",
         "Ahmedabad",
         "2023-05-12",
         "Dumbbell Set",
         "Fitness",
         1999,
         "Tech World Outlet",
         "Bangalore",
         7996
        ],
        [
         1,
         5,
         108,
         12,
         4,
         "2025-05-26",
         "Rahul",
         "Verma",
         "user108@example.com",
         "Kolkata",
         "2023-08-19",
         "Notebook Set",
         "Stationery",
         149,
         "City Mall Store",
         "Mumbai",
         596
        ],
        [
         5,
         8,
         109,
         17,
         5,
         "2024-07-10",
         "Pooja",
         "Mehta",
         "user109@example.com",
         "Delhi",
         "2024-04-01",
         "Desk Organizer",
         "Accessories",
         399,
         "Mega Plaza",
         "Chennai",
         1995
        ],
        [
         2,
         7,
         110,
         7,
         5,
         "2025-01-01",
         "Deepak",
         "Nair",
         "user110@example.com",
         "Mumbai",
         "2023-10-14",
         "Smartwatch",
         "Electronics",
         4999,
         "High Street Store",
         "Delhi",
         24995
        ],
        [
         3,
         7,
         110,
         6,
         5,
         "2025-01-04",
         "Deepak",
         "Nair",
         "user110@example.com",
         "Mumbai",
         "2023-10-14",
         "Smartwatch",
         "Electronics",
         4999,
         "Tech World Outlet",
         "Bangalore",
         24995
        ],
        [
         4,
         8,
         116,
         30,
         5,
         "2025-03-16",
         "Rakesh",
         "Kapoor",
         "user116@example.com",
         "Kolkata",
         "2023-06-15",
         "Desk Organizer",
         "Accessories",
         399,
         "Downtown Mini Store",
         "Pune",
         1995
        ],
        [
         4,
         8,
         116,
         25,
         5,
         "2024-12-13",
         "Rakesh",
         "Kapoor",
         "user116@example.com",
         "Kolkata",
         "2023-06-15",
         "Desk Organizer",
         "Accessories",
         399,
         "Downtown Mini Store",
         "Pune",
         1995
        ],
        [
         4,
         8,
         116,
         19,
         4,
         "2024-07-14",
         "Rakesh",
         "Kapoor",
         "user116@example.com",
         "Kolkata",
         "2023-06-15",
         "Desk Organizer",
         "Accessories",
         399,
         "Downtown Mini Store",
         "Pune",
         1596
        ],
        [
         2,
         2,
         116,
         3,
         3,
         "2025-05-01",
         "Rakesh",
         "Kapoor",
         "user116@example.com",
         "Kolkata",
         "2023-06-15",
         "Bluetooth Speaker",
         "Electronics",
         1299,
         "High Street Store",
         "Delhi",
         3897
        ],
        [
         2,
         6,
         118,
         16,
         4,
         "2024-11-29",
         "Vikram",
         "Mehta",
         "user118@example.com",
         "Mumbai",
         "2023-04-22",
         "Water Bottle",
         "Fitness",
         299,
         "High Street Store",
         "Delhi",
         1196
        ],
        [
         4,
         9,
         119,
         29,
         2,
         "2025-06-03",
         "Kunal",
         "Nair",
         "user119@example.com",
         "Bangalore",
         "2023-08-10",
         "Dumbbell Set",
         "Fitness",
         1999,
         "Downtown Mini Store",
         "Pune",
         3998
        ],
        [
         4,
         1,
         120,
         14,
         5,
         "2024-07-17",
         "Alka",
         "Mishra",
         "user120@example.com",
         "Hyderabad",
         "2023-12-01",
         "Wireless Mouse",
         "Electronics",
         799,
         "Downtown Mini Store",
         "Pune",
         3995
        ],
        [
         1,
         8,
         120,
         4,
         1,
         "2024-11-02",
         "Alka",
         "Mishra",
         "user120@example.com",
         "Hyderabad",
         "2023-12-01",
         "Desk Organizer",
         "Accessories",
         399,
         "City Mall Store",
         "Mumbai",
         399
        ],
        [
         5,
         6,
         121,
         15,
         5,
         "2025-05-19",
         "Sanjay",
         "Patel",
         "user121@example.com",
         "Chennai",
         "2024-01-10",
         "Water Bottle",
         "Fitness",
         299,
         "Mega Plaza",
         "Chennai",
         1495
        ],
        [
         4,
         9,
         122,
         23,
         2,
         "2025-04-30",
         "Tina",
         "Kapoor",
         "user122@example.com",
         "Pune",
         "2023-09-20",
         "Dumbbell Set",
         "Fitness",
         1999,
         "Downtown Mini Store",
         "Pune",
         3998
        ],
        [
         3,
         1,
         123,
         9,
         2,
         "2024-10-08",
         "Arjun",
         "Yadav",
         "user123@example.com",
         "Ahmedabad",
         "2024-02-25",
         "Wireless Mouse",
         "Electronics",
         799,
         "Tech World Outlet",
         "Bangalore",
         1598
        ],
        [
         2,
         2,
         124,
         10,
         5,
         "2024-08-27",
         "Kavita",
         "Sharma",
         "user124@example.com",
         "Kolkata",
         "2023-11-15",
         "Bluetooth Speaker",
         "Electronics",
         1299,
         "High Street Store",
         "Delhi",
         6495
        ],
        [
         5,
         1,
         125,
         24,
         1,
         "2024-07-14",
         "Tarun",
         "Verma",
         "user125@example.com",
         "Delhi",
         "2024-04-05",
         "Wireless Mouse",
         "Electronics",
         799,
         "Mega Plaza",
         "Chennai",
         799
        ],
        [
         2,
         6,
         126,
         26,
         2,
         "2024-09-21",
         "Bhavna",
         "Nair",
         "user126@example.com",
         "Mumbai",
         "2023-07-17",
         "Water Bottle",
         "Fitness",
         299,
         "High Street Store",
         "Delhi",
         598
        ],
        [
         5,
         7,
         126,
         8,
         2,
         "2025-06-08",
         "Bhavna",
         "Nair",
         "user126@example.com",
         "Mumbai",
         "2023-07-17",
         "Smartwatch",
         "Electronics",
         4999,
         "Mega Plaza",
         "Chennai",
         9998
        ],
        [
         1,
         8,
         127,
         27,
         1,
         "2024-10-10",
         "Rohit",
         "Mehta",
         "user127@example.com",
         "Bangalore",
         "2023-08-30",
         "Desk Organizer",
         "Accessories",
         399,
         "City Mall Store",
         "Mumbai",
         399
        ],
        [
         4,
         8,
         127,
         1,
         4,
         "2025-03-31",
         "Rohit",
         "Mehta",
         "user127@example.com",
         "Bangalore",
         "2023-08-30",
         "Desk Organizer",
         "Accessories",
         399,
         "Downtown Mini Store",
         "Pune",
         1596
        ],
        [
         1,
         5,
         130,
         20,
         2,
         "2024-07-30",
         "Tanvi",
         "Kapoor",
         "user130@example.com",
         "Pune",
         "2023-12-22",
         "Notebook Set",
         "Stationery",
         149,
         "City Mall Store",
         "Mumbai",
         298
        ]
       ],
       "datasetInfos": [],
       "dbfsResultPath": null,
       "isJsonSchema": true,
       "metadata": {},
       "overflow": false,
       "plotOptions": {
        "customPlotOptions": {},
        "displayType": "table",
        "pivotAggregation": null,
        "pivotColumns": null,
        "xColumns": null,
        "yColumns": null
       },
       "removedWidgets": [],
       "schema": [
        {
         "metadata": "{}",
         "name": "store_id",
         "type": "\"integer\""
        },
        {
         "metadata": "{}",
         "name": "product_id",
         "type": "\"integer\""
        },
        {
         "metadata": "{}",
         "name": "customer_id",
         "type": "\"integer\""
        },
        {
         "metadata": "{}",
         "name": "transaction_id",
         "type": "\"integer\""
        },
        {
         "metadata": "{}",
         "name": "quantity",
         "type": "\"integer\""
        },
        {
         "metadata": "{}",
         "name": "transaction_date",
         "type": "\"date\""
        },
        {
         "metadata": "{}",
         "name": "first_name",
         "type": "\"string\""
        },
        {
         "metadata": "{}",
         "name": "last_name",
         "type": "\"string\""
        },
        {
         "metadata": "{}",
         "name": "email",
         "type": "\"string\""
        },
        {
         "metadata": "{}",
         "name": "city",
         "type": "\"string\""
        },
        {
         "metadata": "{}",
         "name": "registration_date",
         "type": "\"string\""
        },
        {
         "metadata": "{}",
         "name": "product_name",
         "type": "\"string\""
        },
        {
         "metadata": "{}",
         "name": "category",
         "type": "\"string\""
        },
        {
         "metadata": "{}",
         "name": "price",
         "type": "\"integer\""
        },
        {
         "metadata": "{}",
         "name": "store_name",
         "type": "\"string\""
        },
        {
         "metadata": "{}",
         "name": "location",
         "type": "\"string\""
        },
        {
         "metadata": "{}",
         "name": "total_amount",
         "type": "\"integer\""
        }
       ],
       "type": "table"
      }
     },
     "output_type": "display_data"
    }
   ],
   "source": [
    "%sql select * from retail_silver_cleaned"
   ]
  },
  {
   "cell_type": "code",
   "execution_count": 0,
   "metadata": {
    "application/vnd.databricks.v1+cell": {
     "cellMetadata": {},
     "inputWidgets": {},
     "nuid": "4740c972-df0d-4c43-9a1a-28d2c7c5548a",
     "showTitle": false,
     "tableResultSettingsMap": {},
     "title": ""
    }
   },
   "outputs": [],
   "source": []
  },
  {
   "cell_type": "code",
   "execution_count": 0,
   "metadata": {
    "application/vnd.databricks.v1+cell": {
     "cellMetadata": {
      "byteLimit": 2048000,
      "rowLimit": 10000
     },
     "inputWidgets": {},
     "nuid": "1a0175b1-a89c-4533-a529-e0676f2b97f7",
     "showTitle": false,
     "tableResultSettingsMap": {},
     "title": ""
    }
   },
   "outputs": [],
   "source": [
    "from pyspark.sql.functions import sum, countDistinct, avg\n",
    "\n",
    "gold_df = silver_df.groupBy(\n",
    "    \"transaction_date\", \"product_id\", \"product_name\", \"category\", \"store_id\", \"location\"\n",
    ").agg(\n",
    "    sum(\"quantity\").alias(\"total_quantity_sold\"),\n",
    "    sum(\"total_amount\").alias(\"total_sales_amount\"),\n",
    "    countDistinct(\"transaction_id\").alias(\"number_of_transactions\"),\n",
    "    avg(\"total_amount\").alias(\"average_transaction_value\")\n",
    ")\n"
   ]
  },
  {
   "cell_type": "code",
   "execution_count": 0,
   "metadata": {
    "application/vnd.databricks.v1+cell": {
     "cellMetadata": {
      "byteLimit": 2048000,
      "rowLimit": 10000
     },
     "inputWidgets": {},
     "nuid": "e4a40bad-4ab4-492d-9678-144c2c30bbc2",
     "showTitle": false,
     "tableResultSettingsMap": {},
     "title": ""
    }
   },
   "outputs": [],
   "source": [
    "gold_path = \"/mnt/retailprojectadf/Gold/\"\n",
    "gold_df.write.mode(\"overwrite\").format(\"delta\").save(gold_path)\n"
   ]
  },
  {
   "cell_type": "code",
   "execution_count": 0,
   "metadata": {
    "application/vnd.databricks.v1+cell": {
     "cellMetadata": {
      "byteLimit": 2048000,
      "rowLimit": 10000
     },
     "inputWidgets": {},
     "nuid": "b1784ad6-1df7-4cdd-a130-51f89bf91bee",
     "showTitle": false,
     "tableResultSettingsMap": {},
     "title": ""
    }
   },
   "outputs": [
    {
     "data": {
      "text/html": [
       "<style scoped>\n",
       "  .table-result-container {\n",
       "    max-height: 300px;\n",
       "    overflow: auto;\n",
       "  }\n",
       "  table, th, td {\n",
       "    border: 1px solid black;\n",
       "    border-collapse: collapse;\n",
       "  }\n",
       "  th, td {\n",
       "    padding: 5px;\n",
       "  }\n",
       "  th {\n",
       "    text-align: left;\n",
       "  }\n",
       "</style><div class='table-result-container'><table class='table-result'><thead style='background-color: white'><tr><th>transaction_date</th><th>product_id</th><th>product_name</th><th>category</th><th>store_id</th><th>location</th><th>total_quantity_sold</th><th>total_sales_amount</th><th>number_of_transactions</th><th>average_transaction_value</th></tr></thead><tbody><tr><td>2024-11-15</td><td>7</td><td>Smartwatch</td><td>Electronics</td><td>5</td><td>Chennai</td><td>3</td><td>14997</td><td>1</td><td>14997.0</td></tr><tr><td>2025-03-16</td><td>8</td><td>Desk Organizer</td><td>Accessories</td><td>4</td><td>Pune</td><td>5</td><td>1995</td><td>1</td><td>1995.0</td></tr><tr><td>2025-05-26</td><td>5</td><td>Notebook Set</td><td>Stationery</td><td>1</td><td>Mumbai</td><td>4</td><td>596</td><td>1</td><td>596.0</td></tr><tr><td>2025-05-04</td><td>3</td><td>Yoga Mat</td><td>Fitness</td><td>3</td><td>Bangalore</td><td>4</td><td>1996</td><td>1</td><td>1996.0</td></tr><tr><td>2024-07-14</td><td>8</td><td>Desk Organizer</td><td>Accessories</td><td>4</td><td>Pune</td><td>4</td><td>1596</td><td>1</td><td>1596.0</td></tr><tr><td>2024-10-08</td><td>1</td><td>Wireless Mouse</td><td>Electronics</td><td>3</td><td>Bangalore</td><td>2</td><td>1598</td><td>1</td><td>1598.0</td></tr><tr><td>2025-06-08</td><td>7</td><td>Smartwatch</td><td>Electronics</td><td>5</td><td>Chennai</td><td>2</td><td>9998</td><td>1</td><td>9998.0</td></tr><tr><td>2024-10-10</td><td>8</td><td>Desk Organizer</td><td>Accessories</td><td>1</td><td>Mumbai</td><td>1</td><td>399</td><td>1</td><td>399.0</td></tr><tr><td>2024-07-17</td><td>1</td><td>Wireless Mouse</td><td>Electronics</td><td>4</td><td>Pune</td><td>5</td><td>3995</td><td>1</td><td>3995.0</td></tr><tr><td>2024-11-29</td><td>6</td><td>Water Bottle</td><td>Fitness</td><td>2</td><td>Delhi</td><td>4</td><td>1196</td><td>1</td><td>1196.0</td></tr><tr><td>2025-01-04</td><td>7</td><td>Smartwatch</td><td>Electronics</td><td>3</td><td>Bangalore</td><td>5</td><td>24995</td><td>1</td><td>24995.0</td></tr><tr><td>2025-05-01</td><td>2</td><td>Bluetooth Speaker</td><td>Electronics</td><td>2</td><td>Delhi</td><td>3</td><td>3897</td><td>1</td><td>3897.0</td></tr><tr><td>2025-01-01</td><td>7</td><td>Smartwatch</td><td>Electronics</td><td>2</td><td>Delhi</td><td>5</td><td>24995</td><td>1</td><td>24995.0</td></tr><tr><td>2024-08-27</td><td>2</td><td>Bluetooth Speaker</td><td>Electronics</td><td>2</td><td>Delhi</td><td>5</td><td>6495</td><td>1</td><td>6495.0</td></tr><tr><td>2024-11-02</td><td>8</td><td>Desk Organizer</td><td>Accessories</td><td>1</td><td>Mumbai</td><td>1</td><td>399</td><td>1</td><td>399.0</td></tr><tr><td>2024-07-30</td><td>5</td><td>Notebook Set</td><td>Stationery</td><td>1</td><td>Mumbai</td><td>2</td><td>298</td><td>1</td><td>298.0</td></tr><tr><td>2024-07-10</td><td>8</td><td>Desk Organizer</td><td>Accessories</td><td>5</td><td>Chennai</td><td>5</td><td>1995</td><td>1</td><td>1995.0</td></tr><tr><td>2025-04-30</td><td>9</td><td>Dumbbell Set</td><td>Fitness</td><td>4</td><td>Pune</td><td>2</td><td>3998</td><td>1</td><td>3998.0</td></tr><tr><td>2024-08-11</td><td>1</td><td>Wireless Mouse</td><td>Electronics</td><td>3</td><td>Bangalore</td><td>2</td><td>1598</td><td>1</td><td>1598.0</td></tr><tr><td>2024-07-14</td><td>1</td><td>Wireless Mouse</td><td>Electronics</td><td>5</td><td>Chennai</td><td>1</td><td>799</td><td>1</td><td>799.0</td></tr><tr><td>2025-05-19</td><td>6</td><td>Water Bottle</td><td>Fitness</td><td>5</td><td>Chennai</td><td>5</td><td>1495</td><td>1</td><td>1495.0</td></tr><tr><td>2024-09-05</td><td>1</td><td>Wireless Mouse</td><td>Electronics</td><td>4</td><td>Pune</td><td>3</td><td>2397</td><td>1</td><td>2397.0</td></tr><tr><td>2024-11-12</td><td>3</td><td>Yoga Mat</td><td>Fitness</td><td>4</td><td>Pune</td><td>5</td><td>2495</td><td>1</td><td>2495.0</td></tr><tr><td>2025-03-31</td><td>8</td><td>Desk Organizer</td><td>Accessories</td><td>4</td><td>Pune</td><td>4</td><td>1596</td><td>1</td><td>1596.0</td></tr><tr><td>2024-11-16</td><td>9</td><td>Dumbbell Set</td><td>Fitness</td><td>3</td><td>Bangalore</td><td>4</td><td>7996</td><td>1</td><td>7996.0</td></tr><tr><td>2025-06-03</td><td>9</td><td>Dumbbell Set</td><td>Fitness</td><td>4</td><td>Pune</td><td>2</td><td>3998</td><td>1</td><td>3998.0</td></tr><tr><td>2025-03-17</td><td>5</td><td>Notebook Set</td><td>Stationery</td><td>2</td><td>Delhi</td><td>1</td><td>149</td><td>1</td><td>149.0</td></tr><tr><td>2024-09-21</td><td>6</td><td>Water Bottle</td><td>Fitness</td><td>2</td><td>Delhi</td><td>2</td><td>598</td><td>1</td><td>598.0</td></tr><tr><td>2024-10-02</td><td>1</td><td>Wireless Mouse</td><td>Electronics</td><td>3</td><td>Bangalore</td><td>5</td><td>3995</td><td>1</td><td>3995.0</td></tr><tr><td>2024-12-13</td><td>8</td><td>Desk Organizer</td><td>Accessories</td><td>4</td><td>Pune</td><td>5</td><td>1995</td><td>1</td><td>1995.0</td></tr></tbody></table></div>"
      ]
     },
     "metadata": {
      "application/vnd.databricks.v1+output": {
       "addedWidgets": {},
       "aggData": [],
       "aggError": "",
       "aggOverflow": false,
       "aggSchema": [],
       "aggSeriesLimitReached": false,
       "aggType": "",
       "arguments": {},
       "columnCustomDisplayInfos": {},
       "data": [
        [
         "2024-11-15",
         7,
         "Smartwatch",
         "Electronics",
         5,
         "Chennai",
         3,
         14997,
         1,
         14997
        ],
        [
         "2025-03-16",
         8,
         "Desk Organizer",
         "Accessories",
         4,
         "Pune",
         5,
         1995,
         1,
         1995
        ],
        [
         "2025-05-26",
         5,
         "Notebook Set",
         "Stationery",
         1,
         "Mumbai",
         4,
         596,
         1,
         596
        ],
        [
         "2025-05-04",
         3,
         "Yoga Mat",
         "Fitness",
         3,
         "Bangalore",
         4,
         1996,
         1,
         1996
        ],
        [
         "2024-07-14",
         8,
         "Desk Organizer",
         "Accessories",
         4,
         "Pune",
         4,
         1596,
         1,
         1596
        ],
        [
         "2024-10-08",
         1,
         "Wireless Mouse",
         "Electronics",
         3,
         "Bangalore",
         2,
         1598,
         1,
         1598
        ],
        [
         "2025-06-08",
         7,
         "Smartwatch",
         "Electronics",
         5,
         "Chennai",
         2,
         9998,
         1,
         9998
        ],
        [
         "2024-10-10",
         8,
         "Desk Organizer",
         "Accessories",
         1,
         "Mumbai",
         1,
         399,
         1,
         399
        ],
        [
         "2024-07-17",
         1,
         "Wireless Mouse",
         "Electronics",
         4,
         "Pune",
         5,
         3995,
         1,
         3995
        ],
        [
         "2024-11-29",
         6,
         "Water Bottle",
         "Fitness",
         2,
         "Delhi",
         4,
         1196,
         1,
         1196
        ],
        [
         "2025-01-04",
         7,
         "Smartwatch",
         "Electronics",
         3,
         "Bangalore",
         5,
         24995,
         1,
         24995
        ],
        [
         "2025-05-01",
         2,
         "Bluetooth Speaker",
         "Electronics",
         2,
         "Delhi",
         3,
         3897,
         1,
         3897
        ],
        [
         "2025-01-01",
         7,
         "Smartwatch",
         "Electronics",
         2,
         "Delhi",
         5,
         24995,
         1,
         24995
        ],
        [
         "2024-08-27",
         2,
         "Bluetooth Speaker",
         "Electronics",
         2,
         "Delhi",
         5,
         6495,
         1,
         6495
        ],
        [
         "2024-11-02",
         8,
         "Desk Organizer",
         "Accessories",
         1,
         "Mumbai",
         1,
         399,
         1,
         399
        ],
        [
         "2024-07-30",
         5,
         "Notebook Set",
         "Stationery",
         1,
         "Mumbai",
         2,
         298,
         1,
         298
        ],
        [
         "2024-07-10",
         8,
         "Desk Organizer",
         "Accessories",
         5,
         "Chennai",
         5,
         1995,
         1,
         1995
        ],
        [
         "2025-04-30",
         9,
         "Dumbbell Set",
         "Fitness",
         4,
         "Pune",
         2,
         3998,
         1,
         3998
        ],
        [
         "2024-08-11",
         1,
         "Wireless Mouse",
         "Electronics",
         3,
         "Bangalore",
         2,
         1598,
         1,
         1598
        ],
        [
         "2024-07-14",
         1,
         "Wireless Mouse",
         "Electronics",
         5,
         "Chennai",
         1,
         799,
         1,
         799
        ],
        [
         "2025-05-19",
         6,
         "Water Bottle",
         "Fitness",
         5,
         "Chennai",
         5,
         1495,
         1,
         1495
        ],
        [
         "2024-09-05",
         1,
         "Wireless Mouse",
         "Electronics",
         4,
         "Pune",
         3,
         2397,
         1,
         2397
        ],
        [
         "2024-11-12",
         3,
         "Yoga Mat",
         "Fitness",
         4,
         "Pune",
         5,
         2495,
         1,
         2495
        ],
        [
         "2025-03-31",
         8,
         "Desk Organizer",
         "Accessories",
         4,
         "Pune",
         4,
         1596,
         1,
         1596
        ],
        [
         "2024-11-16",
         9,
         "Dumbbell Set",
         "Fitness",
         3,
         "Bangalore",
         4,
         7996,
         1,
         7996
        ],
        [
         "2025-06-03",
         9,
         "Dumbbell Set",
         "Fitness",
         4,
         "Pune",
         2,
         3998,
         1,
         3998
        ],
        [
         "2025-03-17",
         5,
         "Notebook Set",
         "Stationery",
         2,
         "Delhi",
         1,
         149,
         1,
         149
        ],
        [
         "2024-09-21",
         6,
         "Water Bottle",
         "Fitness",
         2,
         "Delhi",
         2,
         598,
         1,
         598
        ],
        [
         "2024-10-02",
         1,
         "Wireless Mouse",
         "Electronics",
         3,
         "Bangalore",
         5,
         3995,
         1,
         3995
        ],
        [
         "2024-12-13",
         8,
         "Desk Organizer",
         "Accessories",
         4,
         "Pune",
         5,
         1995,
         1,
         1995
        ]
       ],
       "datasetInfos": [],
       "dbfsResultPath": null,
       "isJsonSchema": true,
       "metadata": {},
       "overflow": false,
       "plotOptions": {
        "customPlotOptions": {},
        "displayType": "table",
        "pivotAggregation": null,
        "pivotColumns": null,
        "xColumns": null,
        "yColumns": null
       },
       "removedWidgets": [],
       "schema": [
        {
         "metadata": "{}",
         "name": "transaction_date",
         "type": "\"date\""
        },
        {
         "metadata": "{}",
         "name": "product_id",
         "type": "\"integer\""
        },
        {
         "metadata": "{}",
         "name": "product_name",
         "type": "\"string\""
        },
        {
         "metadata": "{}",
         "name": "category",
         "type": "\"string\""
        },
        {
         "metadata": "{}",
         "name": "store_id",
         "type": "\"integer\""
        },
        {
         "metadata": "{}",
         "name": "location",
         "type": "\"string\""
        },
        {
         "metadata": "{}",
         "name": "total_quantity_sold",
         "type": "\"long\""
        },
        {
         "metadata": "{}",
         "name": "total_sales_amount",
         "type": "\"long\""
        },
        {
         "metadata": "{}",
         "name": "number_of_transactions",
         "type": "\"long\""
        },
        {
         "metadata": "{}",
         "name": "average_transaction_value",
         "type": "\"double\""
        }
       ],
       "type": "table"
      }
     },
     "output_type": "display_data"
    }
   ],
   "source": [
    "display(gold_df)"
   ]
  },
  {
   "cell_type": "code",
   "execution_count": 0,
   "metadata": {
    "application/vnd.databricks.v1+cell": {
     "cellMetadata": {
      "byteLimit": 2048000,
      "rowLimit": 10000
     },
     "inputWidgets": {},
     "nuid": "4a00bd75-38e0-4505-a59b-81a128456e60",
     "showTitle": false,
     "tableResultSettingsMap": {},
     "title": ""
    }
   },
   "outputs": [
    {
     "name": "stdout",
     "output_type": "stream",
     "text": [
      "Out[25]: DataFrame[]"
     ]
    }
   ],
   "source": [
    "spark.sql(\"\"\"\n",
    "          create table retail_gold_sales_summary\n",
    "          using delta\n",
    "          location '/mnt/retailprojectadf/Gold/'\n",
    "          \"\"\")"
   ]
  },
  {
   "cell_type": "code",
   "execution_count": 0,
   "metadata": {
    "application/vnd.databricks.v1+cell": {
     "cellMetadata": {
      "byteLimit": 2048000,
      "implicitDf": true,
      "rowLimit": 10000
     },
     "inputWidgets": {},
     "nuid": "0f5df491-2616-4eb9-9939-12ffe99cc0c9",
     "showTitle": false,
     "tableResultSettingsMap": {},
     "title": ""
    }
   },
   "outputs": [
    {
     "data": {
      "text/html": [
       "<style scoped>\n",
       "  .table-result-container {\n",
       "    max-height: 300px;\n",
       "    overflow: auto;\n",
       "  }\n",
       "  table, th, td {\n",
       "    border: 1px solid black;\n",
       "    border-collapse: collapse;\n",
       "  }\n",
       "  th, td {\n",
       "    padding: 5px;\n",
       "  }\n",
       "  th {\n",
       "    text-align: left;\n",
       "  }\n",
       "</style><div class='table-result-container'><table class='table-result'><thead style='background-color: white'><tr><th>transaction_date</th><th>product_id</th><th>product_name</th><th>category</th><th>store_id</th><th>location</th><th>total_quantity_sold</th><th>total_sales_amount</th><th>number_of_transactions</th><th>average_transaction_value</th></tr></thead><tbody><tr><td>2024-11-15</td><td>7</td><td>Smartwatch</td><td>Electronics</td><td>5</td><td>Chennai</td><td>3</td><td>14997</td><td>1</td><td>14997.0</td></tr><tr><td>2025-03-16</td><td>8</td><td>Desk Organizer</td><td>Accessories</td><td>4</td><td>Pune</td><td>5</td><td>1995</td><td>1</td><td>1995.0</td></tr><tr><td>2025-05-26</td><td>5</td><td>Notebook Set</td><td>Stationery</td><td>1</td><td>Mumbai</td><td>4</td><td>596</td><td>1</td><td>596.0</td></tr><tr><td>2025-05-04</td><td>3</td><td>Yoga Mat</td><td>Fitness</td><td>3</td><td>Bangalore</td><td>4</td><td>1996</td><td>1</td><td>1996.0</td></tr><tr><td>2024-07-14</td><td>8</td><td>Desk Organizer</td><td>Accessories</td><td>4</td><td>Pune</td><td>4</td><td>1596</td><td>1</td><td>1596.0</td></tr><tr><td>2024-10-08</td><td>1</td><td>Wireless Mouse</td><td>Electronics</td><td>3</td><td>Bangalore</td><td>2</td><td>1598</td><td>1</td><td>1598.0</td></tr><tr><td>2025-06-08</td><td>7</td><td>Smartwatch</td><td>Electronics</td><td>5</td><td>Chennai</td><td>2</td><td>9998</td><td>1</td><td>9998.0</td></tr><tr><td>2024-10-10</td><td>8</td><td>Desk Organizer</td><td>Accessories</td><td>1</td><td>Mumbai</td><td>1</td><td>399</td><td>1</td><td>399.0</td></tr><tr><td>2024-07-17</td><td>1</td><td>Wireless Mouse</td><td>Electronics</td><td>4</td><td>Pune</td><td>5</td><td>3995</td><td>1</td><td>3995.0</td></tr><tr><td>2024-11-29</td><td>6</td><td>Water Bottle</td><td>Fitness</td><td>2</td><td>Delhi</td><td>4</td><td>1196</td><td>1</td><td>1196.0</td></tr><tr><td>2025-01-04</td><td>7</td><td>Smartwatch</td><td>Electronics</td><td>3</td><td>Bangalore</td><td>5</td><td>24995</td><td>1</td><td>24995.0</td></tr><tr><td>2025-05-01</td><td>2</td><td>Bluetooth Speaker</td><td>Electronics</td><td>2</td><td>Delhi</td><td>3</td><td>3897</td><td>1</td><td>3897.0</td></tr><tr><td>2025-01-01</td><td>7</td><td>Smartwatch</td><td>Electronics</td><td>2</td><td>Delhi</td><td>5</td><td>24995</td><td>1</td><td>24995.0</td></tr><tr><td>2024-08-27</td><td>2</td><td>Bluetooth Speaker</td><td>Electronics</td><td>2</td><td>Delhi</td><td>5</td><td>6495</td><td>1</td><td>6495.0</td></tr><tr><td>2024-11-02</td><td>8</td><td>Desk Organizer</td><td>Accessories</td><td>1</td><td>Mumbai</td><td>1</td><td>399</td><td>1</td><td>399.0</td></tr><tr><td>2024-07-30</td><td>5</td><td>Notebook Set</td><td>Stationery</td><td>1</td><td>Mumbai</td><td>2</td><td>298</td><td>1</td><td>298.0</td></tr><tr><td>2024-07-10</td><td>8</td><td>Desk Organizer</td><td>Accessories</td><td>5</td><td>Chennai</td><td>5</td><td>1995</td><td>1</td><td>1995.0</td></tr><tr><td>2025-04-30</td><td>9</td><td>Dumbbell Set</td><td>Fitness</td><td>4</td><td>Pune</td><td>2</td><td>3998</td><td>1</td><td>3998.0</td></tr><tr><td>2024-08-11</td><td>1</td><td>Wireless Mouse</td><td>Electronics</td><td>3</td><td>Bangalore</td><td>2</td><td>1598</td><td>1</td><td>1598.0</td></tr><tr><td>2024-07-14</td><td>1</td><td>Wireless Mouse</td><td>Electronics</td><td>5</td><td>Chennai</td><td>1</td><td>799</td><td>1</td><td>799.0</td></tr><tr><td>2025-05-19</td><td>6</td><td>Water Bottle</td><td>Fitness</td><td>5</td><td>Chennai</td><td>5</td><td>1495</td><td>1</td><td>1495.0</td></tr><tr><td>2024-09-05</td><td>1</td><td>Wireless Mouse</td><td>Electronics</td><td>4</td><td>Pune</td><td>3</td><td>2397</td><td>1</td><td>2397.0</td></tr><tr><td>2024-11-12</td><td>3</td><td>Yoga Mat</td><td>Fitness</td><td>4</td><td>Pune</td><td>5</td><td>2495</td><td>1</td><td>2495.0</td></tr><tr><td>2025-03-31</td><td>8</td><td>Desk Organizer</td><td>Accessories</td><td>4</td><td>Pune</td><td>4</td><td>1596</td><td>1</td><td>1596.0</td></tr><tr><td>2024-11-16</td><td>9</td><td>Dumbbell Set</td><td>Fitness</td><td>3</td><td>Bangalore</td><td>4</td><td>7996</td><td>1</td><td>7996.0</td></tr><tr><td>2025-06-03</td><td>9</td><td>Dumbbell Set</td><td>Fitness</td><td>4</td><td>Pune</td><td>2</td><td>3998</td><td>1</td><td>3998.0</td></tr><tr><td>2025-03-17</td><td>5</td><td>Notebook Set</td><td>Stationery</td><td>2</td><td>Delhi</td><td>1</td><td>149</td><td>1</td><td>149.0</td></tr><tr><td>2024-09-21</td><td>6</td><td>Water Bottle</td><td>Fitness</td><td>2</td><td>Delhi</td><td>2</td><td>598</td><td>1</td><td>598.0</td></tr><tr><td>2024-10-02</td><td>1</td><td>Wireless Mouse</td><td>Electronics</td><td>3</td><td>Bangalore</td><td>5</td><td>3995</td><td>1</td><td>3995.0</td></tr><tr><td>2024-12-13</td><td>8</td><td>Desk Organizer</td><td>Accessories</td><td>4</td><td>Pune</td><td>5</td><td>1995</td><td>1</td><td>1995.0</td></tr></tbody></table></div>"
      ]
     },
     "metadata": {
      "application/vnd.databricks.v1+output": {
       "addedWidgets": {},
       "aggData": [],
       "aggError": "",
       "aggOverflow": false,
       "aggSchema": [],
       "aggSeriesLimitReached": false,
       "aggType": "",
       "arguments": {},
       "columnCustomDisplayInfos": {},
       "data": [
        [
         "2024-11-15",
         7,
         "Smartwatch",
         "Electronics",
         5,
         "Chennai",
         3,
         14997,
         1,
         14997
        ],
        [
         "2025-03-16",
         8,
         "Desk Organizer",
         "Accessories",
         4,
         "Pune",
         5,
         1995,
         1,
         1995
        ],
        [
         "2025-05-26",
         5,
         "Notebook Set",
         "Stationery",
         1,
         "Mumbai",
         4,
         596,
         1,
         596
        ],
        [
         "2025-05-04",
         3,
         "Yoga Mat",
         "Fitness",
         3,
         "Bangalore",
         4,
         1996,
         1,
         1996
        ],
        [
         "2024-07-14",
         8,
         "Desk Organizer",
         "Accessories",
         4,
         "Pune",
         4,
         1596,
         1,
         1596
        ],
        [
         "2024-10-08",
         1,
         "Wireless Mouse",
         "Electronics",
         3,
         "Bangalore",
         2,
         1598,
         1,
         1598
        ],
        [
         "2025-06-08",
         7,
         "Smartwatch",
         "Electronics",
         5,
         "Chennai",
         2,
         9998,
         1,
         9998
        ],
        [
         "2024-10-10",
         8,
         "Desk Organizer",
         "Accessories",
         1,
         "Mumbai",
         1,
         399,
         1,
         399
        ],
        [
         "2024-07-17",
         1,
         "Wireless Mouse",
         "Electronics",
         4,
         "Pune",
         5,
         3995,
         1,
         3995
        ],
        [
         "2024-11-29",
         6,
         "Water Bottle",
         "Fitness",
         2,
         "Delhi",
         4,
         1196,
         1,
         1196
        ],
        [
         "2025-01-04",
         7,
         "Smartwatch",
         "Electronics",
         3,
         "Bangalore",
         5,
         24995,
         1,
         24995
        ],
        [
         "2025-05-01",
         2,
         "Bluetooth Speaker",
         "Electronics",
         2,
         "Delhi",
         3,
         3897,
         1,
         3897
        ],
        [
         "2025-01-01",
         7,
         "Smartwatch",
         "Electronics",
         2,
         "Delhi",
         5,
         24995,
         1,
         24995
        ],
        [
         "2024-08-27",
         2,
         "Bluetooth Speaker",
         "Electronics",
         2,
         "Delhi",
         5,
         6495,
         1,
         6495
        ],
        [
         "2024-11-02",
         8,
         "Desk Organizer",
         "Accessories",
         1,
         "Mumbai",
         1,
         399,
         1,
         399
        ],
        [
         "2024-07-30",
         5,
         "Notebook Set",
         "Stationery",
         1,
         "Mumbai",
         2,
         298,
         1,
         298
        ],
        [
         "2024-07-10",
         8,
         "Desk Organizer",
         "Accessories",
         5,
         "Chennai",
         5,
         1995,
         1,
         1995
        ],
        [
         "2025-04-30",
         9,
         "Dumbbell Set",
         "Fitness",
         4,
         "Pune",
         2,
         3998,
         1,
         3998
        ],
        [
         "2024-08-11",
         1,
         "Wireless Mouse",
         "Electronics",
         3,
         "Bangalore",
         2,
         1598,
         1,
         1598
        ],
        [
         "2024-07-14",
         1,
         "Wireless Mouse",
         "Electronics",
         5,
         "Chennai",
         1,
         799,
         1,
         799
        ],
        [
         "2025-05-19",
         6,
         "Water Bottle",
         "Fitness",
         5,
         "Chennai",
         5,
         1495,
         1,
         1495
        ],
        [
         "2024-09-05",
         1,
         "Wireless Mouse",
         "Electronics",
         4,
         "Pune",
         3,
         2397,
         1,
         2397
        ],
        [
         "2024-11-12",
         3,
         "Yoga Mat",
         "Fitness",
         4,
         "Pune",
         5,
         2495,
         1,
         2495
        ],
        [
         "2025-03-31",
         8,
         "Desk Organizer",
         "Accessories",
         4,
         "Pune",
         4,
         1596,
         1,
         1596
        ],
        [
         "2024-11-16",
         9,
         "Dumbbell Set",
         "Fitness",
         3,
         "Bangalore",
         4,
         7996,
         1,
         7996
        ],
        [
         "2025-06-03",
         9,
         "Dumbbell Set",
         "Fitness",
         4,
         "Pune",
         2,
         3998,
         1,
         3998
        ],
        [
         "2025-03-17",
         5,
         "Notebook Set",
         "Stationery",
         2,
         "Delhi",
         1,
         149,
         1,
         149
        ],
        [
         "2024-09-21",
         6,
         "Water Bottle",
         "Fitness",
         2,
         "Delhi",
         2,
         598,
         1,
         598
        ],
        [
         "2024-10-02",
         1,
         "Wireless Mouse",
         "Electronics",
         3,
         "Bangalore",
         5,
         3995,
         1,
         3995
        ],
        [
         "2024-12-13",
         8,
         "Desk Organizer",
         "Accessories",
         4,
         "Pune",
         5,
         1995,
         1,
         1995
        ]
       ],
       "datasetInfos": [],
       "dbfsResultPath": null,
       "isJsonSchema": true,
       "metadata": {},
       "overflow": false,
       "plotOptions": {
        "customPlotOptions": {},
        "displayType": "table",
        "pivotAggregation": null,
        "pivotColumns": null,
        "xColumns": null,
        "yColumns": null
       },
       "removedWidgets": [],
       "schema": [
        {
         "metadata": "{}",
         "name": "transaction_date",
         "type": "\"date\""
        },
        {
         "metadata": "{}",
         "name": "product_id",
         "type": "\"integer\""
        },
        {
         "metadata": "{}",
         "name": "product_name",
         "type": "\"string\""
        },
        {
         "metadata": "{}",
         "name": "category",
         "type": "\"string\""
        },
        {
         "metadata": "{}",
         "name": "store_id",
         "type": "\"integer\""
        },
        {
         "metadata": "{}",
         "name": "location",
         "type": "\"string\""
        },
        {
         "metadata": "{}",
         "name": "total_quantity_sold",
         "type": "\"long\""
        },
        {
         "metadata": "{}",
         "name": "total_sales_amount",
         "type": "\"long\""
        },
        {
         "metadata": "{}",
         "name": "number_of_transactions",
         "type": "\"long\""
        },
        {
         "metadata": "{}",
         "name": "average_transaction_value",
         "type": "\"double\""
        }
       ],
       "type": "table"
      }
     },
     "output_type": "display_data"
    }
   ],
   "source": [
    "%sql\n",
    "select * from retail_gold_sales_summary"
   ]
  },
  {
   "cell_type": "code",
   "execution_count": 0,
   "metadata": {
    "application/vnd.databricks.v1+cell": {
     "cellMetadata": {},
     "inputWidgets": {},
     "nuid": "b0b0749f-6db6-4478-9b24-e62a9ee08d34",
     "showTitle": false,
     "tableResultSettingsMap": {},
     "title": ""
    }
   },
   "outputs": [],
   "source": []
  }
 ],
 "metadata": {
  "application/vnd.databricks.v1+notebook": {
   "computePreferences": null,
   "dashboards": [],
   "environmentMetadata": {
    "base_environment": "",
    "environment_version": "1"
   },
   "inputWidgetPreferences": null,
   "language": "python",
   "notebookMetadata": {
    "mostRecentlyExecutedCommandWithImplicitDF": {
     "commandId": 1520124846700542,
     "dataframes": [
      "_sqldf"
     ]
    },
    "pythonIndentUnit": 4
   },
   "notebookName": "Mounting adls to bricks 2025-09-02 03:35:20",
   "widgets": {}
  },
  "language_info": {
   "name": "python"
  }
 },
 "nbformat": 4,
 "nbformat_minor": 0
}
